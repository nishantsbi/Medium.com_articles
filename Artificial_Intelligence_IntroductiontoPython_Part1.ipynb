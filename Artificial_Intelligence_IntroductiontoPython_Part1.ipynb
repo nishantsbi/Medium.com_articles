{
  "cells": [
    {
      "metadata": {
        "collapsed": true
      },
      "cell_type": "markdown",
      "source": "<h3 style=\"margin-top: 0px;\"> Data Structures in Python</h3>"
    },
    {
      "metadata": {},
      "cell_type": "markdown",
      "source": "_This is the first article in the Artificial Intelligence series. AI/ML series will in a period of many months cover basics of python, ML using python, deep learning,reinforcement learning,graphical models etc.Follow with me in the exciting journey of AI._"
    },
    {
      "metadata": {},
      "cell_type": "markdown",
      "source": "**Study sources**:\n\nBeginners level:\n\n[Think Python](http://greenteapress.com/wp/think-python-2e/)\n\n[The hitchhiker's guide to Python](https://docs.python-guide.org/intro/learning/)\n\n[A byte of Python](https://python.swaroopch.com/)\n\nAdvanced Learner's level:\n\n[Problem-solving with algorithms ](http://interactivepython.org/runestone/static/pythonds/index.html)\n\n"
    },
    {
      "metadata": {},
      "cell_type": "markdown",
      "source": "### Getting Started — Installation"
    },
    {
      "metadata": {},
      "cell_type": "markdown",
      "source": "Anaconda is an open-source distribution that simplifies package management and deployment. Package versions are managed by the package management system 'Conda'.\n\nAdvantages of using Anaconda\n\n+ Easy to manage and get started with most requirements for ML/AI problems\n\n+ Anaconda comes with many libraries such as NumPy, OpenCV, SciPy, PyQt, the Spyder IDE, etc.\n\n \n\nAnaconda can be downloaded from [anaconda.org](https://www.anaconda.com/download/) and can be installed like any other normal software. There is no need to download Python separately; the Anaconda installer will do this for you."
    },
    {
      "metadata": {},
      "cell_type": "markdown",
      "source": "### Jupyter Notebook\n\nYou’ll use the Jupyter IPython Notebook as the main environment for writing Python code throughout this program. The main advantage of using Jupyter Notebook is that you can write both code and normal text (using the Markdown format in Jupyter) in the notebooks. These notebooks are easy to read and share and can even be used to present your work to others. Here’s a brief overview of [Jupyter Notebook](https://jupyter-notebook-beginner-guide.readthedocs.io/en/latest/index.html).\n\nThe document given below provides instructions for installing Python and the Jupyter Notebook using Anaconda.\n\n[ installing Python and the Jupyter Notebook using Anaconda](https://cdn.upgrad.com/UpGrad/temp/187b8549-50bc-49ae-9771-f6a54b0a56ae/Installing+Python.1.pdf)\n\n[Jupyter Notebook quick start guide](https://jupyter-notebook-beginner-guide.readthedocs.io/en/latest/index.html)\n\n[Jupyter Notebook Magic Commands](https://ipython.readthedocs.io/en/stable/interactive/magics.html)"
    },
    {
      "metadata": {},
      "cell_type": "markdown",
      "source": "## Introduction to Jupyter Notebook\n\nJupyter IPython Notebook as the main environment for writing Python code throughout this program. The main advantage of using Jupyter Notebook is that you can write both code and normal text (using the Markdown format in Jupyter) in the notebooks. These notebooks are easy to read and share, and can even be used to present your work to others. "
    },
    {
      "metadata": {
        "trusted": true
      },
      "cell_type": "markdown",
      "source": "The blue color outside the cell represents command mode.\n\n<img src= \"https://github.com/nishantsbi/Medium_articles/blob/master/picures/15.PNG?raw=true\">\n\nAnd the green color indicates edit mode.\n\n<img src=\"https://github.com/nishantsbi/Medium_articles/blob/master/picures/16.PNG?raw=true\">\n\nPress 'Esc' to get into command mode.  \nPress 'Enter' to go back into edit mode.  \nPress 'P' to view the list of all available commands."
    },
    {
      "metadata": {
        "trusted": true
      },
      "cell_type": "code",
      "source": "# This is a coding cell.\n# Let's write your first Python program here.\n\nName = input(\"Enter your name: \")\nprint(\"Hello,\", Name)\n\n# Press 'Shift + Enter' to execute the cell.",
      "execution_count": 2,
      "outputs": [
        {
          "output_type": "stream",
          "name": "stdout",
          "text": "Enter your name: Nishant\nHello, Nishant\n"
        }
      ]
    },
    {
      "metadata": {
        "trusted": true
      },
      "cell_type": "code",
      "source": "# Writing comments in a code cell can sometimes creates confusion. Jupyter notebook works both as a notebook and a coding console. \n# To write explanatory texts, you can use a markdown cell which enables you to format your comments well to create a more\n# readable code.\n\n# Let's now learn about markdown cells, then.\n# Press 'M' in command mode to convert a code cell to a Markdown cell.",
      "execution_count": 3,
      "outputs": []
    },
    {
      "metadata": {},
      "cell_type": "markdown",
      "source": "This is a Markdown Cell. Double click on a markdown cell or press 'Enter' to see how it's written. And again, press 'Shift + Enter' to execute the cell.\n\nLet's further learn about the various customizations in a markdown cell to create a more readable and understandable code."
    },
    {
      "metadata": {},
      "cell_type": "markdown",
      "source": "# `#-This is a title`\n## `##-This is a heading`\n### `### This is a subheading`\n#### `#### This is as small as a heading can get`\n##### `#### The fifth hash makes it Italic. Wow!`"
    },
    {
      "metadata": {},
      "cell_type": "markdown",
      "source": "## Formatting in Markdown cells\n\n### Emphasis\n\n__\"This will appear bold.\"__   `__xyz__`\n\n**\"So will this.\"**  `**xyz**`\n\n_\"Just one dash makes it italic.\"_  `_xyz_`\n\n*\"And one star on either side as well.\"*   `*xyz*`\n\n***\"This one's both bold and italic.\"***   `*** xyz***`\n"
    },
    {
      "metadata": {},
      "cell_type": "markdown",
      "source": "### Monospace Fonts\n\nUse a back single quotation mark (\\`) to get monospace fonts.\n\n`This text will appear in monospace font.`\n`Python is a beautiful language.`\n"
    },
    {
      "metadata": {},
      "cell_type": "markdown",
      "source": "### Line Breaks\n\nSometimes in the markdown cells, you don't get a line break where you want simply by pressing enter. In such cases use `<br>` to get a manual line break.\n\nI want a line break here.\nBut I don't get it. :/\n<br>\nSo I used a manual line break `<br>`<br>\nThere we go! :)"
    },
    {
      "metadata": {},
      "cell_type": "markdown",
      "source": "<img src = \"https://github.com/nishantsbi/Medium_articles/blob/master/picures/26.PNG?raw=true\">"
    },
    {
      "metadata": {},
      "cell_type": "markdown",
      "source": "### Bullets and Numbering\n\n-  A dash followed by two spaces, i.e. `'-  '` creates a bullet.\n    -  Pressing a tab before doing the above creates a sub-bullet."
    },
    {
      "metadata": {},
      "cell_type": "markdown",
      "source": "1. Start with a simple `1. ` (1 followed by a dot and a space) to get a numbered list.\n2. And keep doing it for further numbers.\n    1. Again, just a tab for the sub-bullet."
    },
    {
      "metadata": {},
      "cell_type": "markdown",
      "source": "### Coloring\n \n `<font> This text will be blue. </font>`  \n`<font> I hate this color! </font>`\n\n-  <font color = blue> This text will be blue. </font>\n-  <font color = yellow> I hate this color! </font>"
    },
    {
      "metadata": {},
      "cell_type": "markdown",
      "source": "### Adding hyperlinks \n\n`[Cognitive Class](https://www.cognitiveclass.ai)`\n\n[Cognitive Class](https://www.cognitiveclass.ai)"
    },
    {
      "metadata": {},
      "cell_type": "markdown",
      "source": "### Adding an Image\n\nYou can add an image from the web by using `<img src = \"image_path\">`\n\nExample:\n\n`<img src=\"https://www.techworm.net/programming/wp-content/uploads/2018/08/Untitled-3.png\">`\n\n<img src = \"https://www.techworm.net/programming/wp-content/uploads/2018/08/Untitled-3.png\">"
    },
    {
      "metadata": {},
      "cell_type": "markdown",
      "source": "### LaTeX Equations\n\nJupyter notebook also supports LaTeX equations. Use a `$` on either side to write a LaTeX equation.\n\nThe below example is just a hypothetical equation to explain how you can write LaTeX equations in Jupyter notebook. \n<br>\n\n`$(\\frac{a_1}{a_2} + \\frac{a_3}{a_4})^2 = a_5^3$`  which results in:\n\n<img src = \"https://github.com/nishantsbi/Medium_articles/blob/master/picures/27.PNG?raw=true\">\n\nGo through this [link](https://en.wikibooks.org/wiki/LaTeX/Mathematics) if you want to learn the LaTeX syntax. ",
      "attachments": {}
    },
    {
      "metadata": {},
      "cell_type": "markdown",
      "source": "### Basic Commands\n\nThat was all about markdown cells. Now let us take a look at the most useful commands that you require everyday while coding in the Jupyter notebook.\n\n#### Command Mode Shortcuts\n-  `Esc`: To go into command mode\n-  `Enter`: To go back to edit mode\n-  `M`: To convert a cell to a markdown cell\n-  `Y`: To convert a cell back to a code cell\n-  `A`: To insert new cell above\n-  `B`: To insert new cell below\n-  `D + D`: To delete cell\n-  `Z`: Undo last operation\n-  `F`: To find and replace on your code\n-  `Shift + Up/Down`: To select multiple cells\n-  `Space`: Scroll notebook downwards\n-  `Shift + Space`: Scroll notebook upwards\n\n#### Edit Mode Shortcuts\n-  `Shift + Enter`: To execute the code in the current cell and go to the next cell\n-  `Alt + Enter`: To execute the code in the current cell and insert new cell below\n-  `Shift + Tab`: To get a brief documentation of the object that you have just typed in the coding cell\n-  `Ctrl + Shift + -`: To split the cell at cursor\n-  `Shift + M`: To merge selected cells\n\nApart from this, you can also use `H` to open the list of keyboard shortcuts and even add new shortcuts or customize the existing shorcuts according to your personal requirements."
    },
    {
      "metadata": {},
      "cell_type": "markdown",
      "source": "#### Qs 1\n\nSurrounding the text with which of the following elements will give you the monospace font in a markdown cell?  \nAns:A back single quotation mark (`) on either side of the text converts it into monospace.\n\n#### Qs 2\n\n`Jupyter Notebook Commands`\nWhich of the following commands will execute the current cell and move the navigator to the next cell?  \nAns:`Shift + Enter` executes the current cell and moves the navigator to the next cell."
    },
    {
      "metadata": {},
      "cell_type": "markdown",
      "source": "### The Basics\n\nPython is a general-purpose programming language that was named after [Monty Python](https://en.wikipedia.org/wiki/Monty_Python). It is simple and incredibly readable since it closely resembles the English language. But still, why should you use Python? Python is a language that has a use in nearly every domain you can think of. Its [official website](https://www.python.org/about/apps/) will give you an overview of this. In addition to this, its simplicity, as well as the way it ensures tasks can be performed using fewer lines of code, is encouraging many developers across the world to take it up. \n\n#### Some basic data types and also look at some basic operations that can be carried out in Python"
    },
    {
      "metadata": {
        "trusted": true
      },
      "cell_type": "code",
      "source": "print(\"This is my first line of code in python\")",
      "execution_count": 4,
      "outputs": [
        {
          "output_type": "stream",
          "text": "This is my first line of code in python\n",
          "name": "stdout"
        }
      ]
    },
    {
      "metadata": {
        "trusted": true
      },
      "cell_type": "code",
      "source": "print(\"Hello\\nThis is in the next line\")",
      "execution_count": 5,
      "outputs": [
        {
          "output_type": "stream",
          "text": "Hello\nThis is in the next line\n",
          "name": "stdout"
        }
      ]
    },
    {
      "metadata": {
        "trusted": true
      },
      "cell_type": "code",
      "source": "a = 6\nb = 7\nprint(a + b)  \n\nprint(a - b) \nprint(a * b) \nprint(a / b)\nprint(a // b)\nprint(a % b) \nprint(a ** b)",
      "execution_count": 6,
      "outputs": [
        {
          "output_type": "stream",
          "text": "13\n-1\n42\n0.8571428571428571\n0\n6\n279936\n",
          "name": "stdout"
        }
      ]
    },
    {
      "metadata": {
        "trusted": true
      },
      "cell_type": "code",
      "source": "#BEDMAS\nprint(4 * 5 - 9 + 6 / 7)",
      "execution_count": 7,
      "outputs": [
        {
          "output_type": "stream",
          "text": "11.857142857142858\n",
          "name": "stdout"
        }
      ]
    },
    {
      "metadata": {
        "trusted": true
      },
      "cell_type": "code",
      "source": "inc = 9\ninc += 1\nprint(inc)\ninc -= 1\nprint(inc)",
      "execution_count": 8,
      "outputs": [
        {
          "output_type": "stream",
          "text": "10\n9\n",
          "name": "stdout"
        }
      ]
    },
    {
      "metadata": {
        "trusted": true
      },
      "cell_type": "code",
      "source": "#Logical\nprint(3 < 4)\nprint(True and False) \nprint(True or False)\nprint(a!=b) \nprint(True and not False)",
      "execution_count": 9,
      "outputs": [
        {
          "output_type": "stream",
          "text": "True\nFalse\nTrue\nTrue\nTrue\n",
          "name": "stdout"
        }
      ]
    },
    {
      "metadata": {
        "trusted": true
      },
      "cell_type": "code",
      "source": "small = \"i am upper cased\"\nprint(small.upper())\n\nlarge = \"I AM LOWER CASED\"\nprint(large.lower())\n",
      "execution_count": 10,
      "outputs": [
        {
          "output_type": "stream",
          "text": "I AM UPPER CASED\ni am lower cased\n",
          "name": "stdout"
        }
      ]
    },
    {
      "metadata": {
        "trusted": true
      },
      "cell_type": "code",
      "source": "some_sentence = \"There is a space at the end    \"\nprint(some_sentence)\nprint(some_sentence.rstrip())\n",
      "execution_count": 11,
      "outputs": [
        {
          "output_type": "stream",
          "text": "There is a space at the end    \nThere is a space at the end\n",
          "name": "stdout"
        }
      ]
    },
    {
      "metadata": {
        "trusted": true
      },
      "cell_type": "code",
      "source": "increment = '4%'\nprint(increment.rstrip('%')) ",
      "execution_count": 12,
      "outputs": [
        {
          "output_type": "stream",
          "text": "4\n",
          "name": "stdout"
        }
      ]
    },
    {
      "metadata": {
        "trusted": true
      },
      "cell_type": "code",
      "source": "start = \"   There is space at the start\"\nprint(start)\nprint(start.lstrip())",
      "execution_count": 13,
      "outputs": [
        {
          "output_type": "stream",
          "text": "   There is space at the start\nThere is space at the start\n",
          "name": "stdout"
        }
      ]
    },
    {
      "metadata": {
        "trusted": true
      },
      "cell_type": "code",
      "source": "spaces = \"   Trim whitespaces  \"\nprint(spaces)\nprint(spaces.strip())",
      "execution_count": 14,
      "outputs": [
        {
          "output_type": "stream",
          "text": "   Trim whitespaces  \nTrim whitespaces\n",
          "name": "stdout"
        }
      ]
    },
    {
      "metadata": {
        "trusted": true
      },
      "cell_type": "code",
      "source": "num_with_chars = '*444#'\nprint(num_with_chars.rstrip('#').lstrip('*'))",
      "execution_count": 15,
      "outputs": [
        {
          "output_type": "stream",
          "text": "444\n",
          "name": "stdout"
        }
      ]
    },
    {
      "metadata": {
        "trusted": true
      },
      "cell_type": "code",
      "source": "### Python_1\n\n##Qs: Remove the leading spaces from the string  input_str = '         This is my first code'\n\n# Reading the input as a string; ignore the following two lines\nimport ast, sys\ninput_str = sys.stdin.read()\n\n# Write your code here\ninput_str = '         This is my first code'  \nprint(input_str.lstrip()) ## removing leading spaces\n\n",
      "execution_count": 16,
      "outputs": [
        {
          "output_type": "stream",
          "text": "This is my first code\n",
          "name": "stdout"
        }
      ]
    },
    {
      "metadata": {
        "trusted": true
      },
      "cell_type": "code",
      "source": "val = \"2 apples\"\nno_of_apples = val[0] \nprint('number of apples is', no_of_apples)\n",
      "execution_count": 17,
      "outputs": [
        {
          "output_type": "stream",
          "text": "number of apples is 2\n",
          "name": "stdout"
        }
      ]
    },
    {
      "metadata": {
        "trusted": true
      },
      "cell_type": "code",
      "source": "what = val[2:]\nprint(what)",
      "execution_count": 18,
      "outputs": [
        {
          "output_type": "stream",
          "text": "apples\n",
          "name": "stdout"
        }
      ]
    },
    {
      "metadata": {
        "trusted": true
      },
      "cell_type": "code",
      "source": "#slicing by specifying start and end index\nprint(val[2:5])\n",
      "execution_count": 19,
      "outputs": [
        {
          "output_type": "stream",
          "text": "app\n",
          "name": "stdout"
        }
      ]
    },
    {
      "metadata": {
        "trusted": true
      },
      "cell_type": "code",
      "source": "batch = \"5 oranges 3 monkeys n\"\nfruits = batch[ :9]\nprint(fruits)",
      "execution_count": 20,
      "outputs": [
        {
          "output_type": "stream",
          "text": "5 oranges\n",
          "name": "stdout"
        }
      ]
    },
    {
      "metadata": {
        "trusted": true
      },
      "cell_type": "code",
      "source": "print(batch[ :-2])",
      "execution_count": 21,
      "outputs": [
        {
          "output_type": "stream",
          "text": "5 oranges 3 monkeys\n",
          "name": "stdout"
        }
      ]
    },
    {
      "metadata": {
        "trusted": true
      },
      "cell_type": "code",
      "source": "animals = batch[10:-2]\nprint(animals)",
      "execution_count": 22,
      "outputs": [
        {
          "output_type": "stream",
          "text": "3 monkeys\n",
          "name": "stdout"
        }
      ]
    },
    {
      "metadata": {
        "trusted": true
      },
      "cell_type": "code",
      "source": "nums = '123456789'\neven_nums = nums[1::2]\nprint(even_nums)",
      "execution_count": 23,
      "outputs": [
        {
          "output_type": "stream",
          "text": "2468\n",
          "name": "stdout"
        }
      ]
    },
    {
      "metadata": {
        "trusted": true
      },
      "cell_type": "code",
      "source": "odd_nums = nums[0::2]\nprint(odd_nums)",
      "execution_count": 24,
      "outputs": [
        {
          "output_type": "stream",
          "text": "13579\n",
          "name": "stdout"
        }
      ]
    },
    {
      "metadata": {
        "trusted": true
      },
      "cell_type": "code",
      "source": "odd_nums_again = nums[ :: 2]\n",
      "execution_count": 25,
      "outputs": []
    },
    {
      "metadata": {
        "trusted": true
      },
      "cell_type": "code",
      "source": "first_name = \"Monty\"\nlast_name = 'Python'",
      "execution_count": 26,
      "outputs": []
    },
    {
      "metadata": {
        "trusted": true
      },
      "cell_type": "code",
      "source": "name = first_name + \" \" + last_name\nprint(name)",
      "execution_count": 27,
      "outputs": [
        {
          "output_type": "stream",
          "text": "Monty Python\n",
          "name": "stdout"
        }
      ]
    },
    {
      "metadata": {
        "trusted": true
      },
      "cell_type": "code",
      "source": "age = 30\nmy_age = (\"I am \"+ str(age) + \" years old\")\nprint(my_age)",
      "execution_count": 28,
      "outputs": [
        {
          "output_type": "stream",
          "text": "I am 30 years old\n",
          "name": "stdout"
        }
      ]
    },
    {
      "metadata": {
        "trusted": true
      },
      "cell_type": "code",
      "source": "My_age = \"I am {0} years old\".format(age) \nprint(My_age)",
      "execution_count": 29,
      "outputs": [
        {
          "output_type": "stream",
          "text": "I am 30 years old\n",
          "name": "stdout"
        }
      ]
    },
    {
      "metadata": {
        "trusted": true
      },
      "cell_type": "code",
      "source": "A = \"Data\"\nB = \"Analysis\"\nC = \"Pandas\"\n\nprint(\"{0} {1} using {2}\".format(A,B,C))\n",
      "execution_count": 30,
      "outputs": [
        {
          "output_type": "stream",
          "text": "Data Analysis using Pandas\n",
          "name": "stdout"
        }
      ]
    },
    {
      "metadata": {
        "trusted": true
      },
      "cell_type": "code",
      "source": "#concat and update\nname += ' ' + my_age\nprint(name)",
      "execution_count": 31,
      "outputs": [
        {
          "output_type": "stream",
          "text": "Monty Python I am 30 years old\n",
          "name": "stdout"
        }
      ]
    },
    {
      "metadata": {
        "trusted": true
      },
      "cell_type": "code",
      "source": "## Questions:1/1\n\n#Split the string input_str = 'Kumar_Ravi_003' \n#to the person's second name, first name and unique customer code.\n#In this example, second_name= 'Kumar', first_name= 'Ravi', customer_code = '003'.\n\n\ninput_str = 'Kumar_Ravi_003'\n\nfirst_name = input_str[6:10]\nsecond_name = input_str[0:5]\ncustomer_code = input_str[11:]\nprint(first_name)\nprint(second_name)\nprint(customer_code)\n",
      "execution_count": 32,
      "outputs": [
        {
          "output_type": "stream",
          "text": "Ravi\nKumar\n003\n",
          "name": "stdout"
        }
      ]
    },
    {
      "metadata": {},
      "cell_type": "markdown",
      "source": "# Questions:1/5\n\nArithmetic Operators  \nRead [this](https://docs.python.org/3/tutorial/introduction.html#using-python-as-a-calculator) document, and answer the following question.\n\nQs:What is the difference between '/' and '//'?  \nAns:'/' performs classic division and returns a float value while '//' perform floor division and discards the fractional part.\n\nQs:The '%' operator returns the ________?   \nAns:'%' returns the remainder value. Forex. 3%2 =1.\n\nQs:What is the use of '\\n'?     \nAns:\\n produces a new line with print() while without print(), \\n is included in the output.\n\nQs:How will you extract Python from the string word \"I love Python programming\"? (More than one answers may be correct.)    \nAns:word[7:13]   \nThe index value of P in Python is 7 and the index value of N in Python is 12, so while indexing we include the starting value while the ending value is not included. So word[7:13] will give Python, while word[7:12] will give Pytho.\n\nword[-18:-12]    \nNote that since -0 is the same as 0, negative indices start from -1."
    },
    {
      "metadata": {
        "trusted": true
      },
      "cell_type": "code",
      "source": "word=\"I love Python programming\"\nword[7:13]",
      "execution_count": 33,
      "outputs": [
        {
          "output_type": "execute_result",
          "execution_count": 33,
          "data": {
            "text/plain": "'Python'"
          },
          "metadata": {}
        }
      ]
    },
    {
      "metadata": {
        "trusted": true
      },
      "cell_type": "code",
      "source": "word[-18:-12]",
      "execution_count": 34,
      "outputs": [
        {
          "output_type": "execute_result",
          "execution_count": 34,
          "data": {
            "text/plain": "'Python'"
          },
          "metadata": {}
        }
      ]
    },
    {
      "metadata": {
        "trusted": true
      },
      "cell_type": "code",
      "source": "#String Function\n#What is the output of the python code 'len('Python')'?\nlen('Python')",
      "execution_count": 35,
      "outputs": [
        {
          "output_type": "execute_result",
          "execution_count": 35,
          "data": {
            "text/plain": "6"
          },
          "metadata": {}
        }
      ]
    },
    {
      "metadata": {},
      "cell_type": "markdown",
      "source": "Yes, Right answer. P = 1, Y=2, T=3, H=4, O=5, N=6"
    },
    {
      "metadata": {},
      "cell_type": "markdown",
      "source": "Instead of using commands, you can also use simple mathematical operators between sets to perform the various operations. Go through the below link to understand how:\n\n + [Operations on Sets](https://docs.python.org/3/tutorial/datastructures.html#sets)"
    },
    {
      "metadata": {},
      "cell_type": "markdown",
      "source": "# Data Structures\n\nData structures are a special way of storing and accessing data. Every programming language has some built-in data structures such as `arrays, lists, dictionaries,sets` etc.\n\nData structures refer to the collection or group of data in a particular structure."
    },
    {
      "metadata": {},
      "cell_type": "markdown",
      "source": "## Lists\n\nLists are the most commonly used data structure. Think of it as a sequence of data that is enclosed in square brackets and data are separated by a comma. Each of these data can be accessed by calling it's index value.\n\nLists are declared by just equating a variable to `[ ]` or list. We can use lists to hold an ordered sequence of values."
    },
    {
      "metadata": {
        "trusted": true
      },
      "cell_type": "code",
      "source": "initial_list = []\nprint(initial_list)",
      "execution_count": 36,
      "outputs": [
        {
          "output_type": "stream",
          "text": "[]\n",
          "name": "stdout"
        }
      ]
    },
    {
      "metadata": {},
      "cell_type": "markdown",
      "source": "Lists can contain different types of variable, even in the same list."
    },
    {
      "metadata": {
        "trusted": true
      },
      "cell_type": "code",
      "source": "DA_languages = ['R','Python', 'SAS', 'Scala', 42]\nprint(DA_languages)",
      "execution_count": 37,
      "outputs": [
        {
          "output_type": "stream",
          "text": "['R', 'Python', 'SAS', 'Scala', 42]\n",
          "name": "stdout"
        }
      ]
    },
    {
      "metadata": {
        "trusted": true
      },
      "cell_type": "code",
      "source": "print(DA_languages[0])",
      "execution_count": 38,
      "outputs": [
        {
          "output_type": "stream",
          "text": "R\n",
          "name": "stdout"
        }
      ]
    },
    {
      "metadata": {
        "trusted": true
      },
      "cell_type": "code",
      "source": "print(DA_languages[1:3])\n",
      "execution_count": 39,
      "outputs": [
        {
          "output_type": "stream",
          "text": "['Python', 'SAS']\n",
          "name": "stdout"
        }
      ]
    },
    {
      "metadata": {
        "trusted": true
      },
      "cell_type": "code",
      "source": "print(DA_languages[0:2])",
      "execution_count": 40,
      "outputs": [
        {
          "output_type": "stream",
          "text": "['R', 'Python']\n",
          "name": "stdout"
        }
      ]
    },
    {
      "metadata": {
        "trusted": true
      },
      "cell_type": "code",
      "source": "print(DA_languages[-1])",
      "execution_count": 41,
      "outputs": [
        {
          "output_type": "stream",
          "text": "42\n",
          "name": "stdout"
        }
      ]
    },
    {
      "metadata": {
        "trusted": true
      },
      "cell_type": "code",
      "source": "print(DA_languages[2:])",
      "execution_count": 42,
      "outputs": [
        {
          "output_type": "stream",
          "text": "['SAS', 'Scala', 42]\n",
          "name": "stdout"
        }
      ]
    },
    {
      "metadata": {
        "trusted": true
      },
      "cell_type": "code",
      "source": "print(DA_languages[ : -3])",
      "execution_count": 43,
      "outputs": [
        {
          "output_type": "stream",
          "text": "['R', 'Python']\n",
          "name": "stdout"
        }
      ]
    },
    {
      "metadata": {},
      "cell_type": "markdown",
      "source": "<img src = \"https://github.com/nishantsbi/Medium_articles/blob/master/picures/listmethods.PNG?raw=true\">"
    },
    {
      "metadata": {},
      "cell_type": "markdown",
      "source": "In contrast with tuples, lists are variable-length and their contents can be modified.in-place.Lists are **mutable**; their contents can change as more statements are interpreted."
    },
    {
      "metadata": {},
      "cell_type": "markdown",
      "source": "### Concatenating and combining lists  \nSimilar to tuples, adding two lists together with `+` concatenates them:"
    },
    {
      "metadata": {
        "trusted": true
      },
      "cell_type": "code",
      "source": "[4, None, 'foo'] + [7, 8, (2, 3)]",
      "execution_count": 44,
      "outputs": [
        {
          "output_type": "execute_result",
          "execution_count": 44,
          "data": {
            "text/plain": "[4, None, 'foo', 7, 8, (2, 3)]"
          },
          "metadata": {}
        }
      ]
    },
    {
      "metadata": {},
      "cell_type": "markdown",
      "source": "**faster than the concatenative alternative**\n\n`everything = []\nfor chunk in list_of_lists:\n    everything.extend(chunk)`"
    },
    {
      "metadata": {
        "trusted": true
      },
      "cell_type": "code",
      "source": "DA_languages = ['R','Python', 'SAS', 'Scala', 42]\nDA_languages.append('Java')\nprint(DA_languages)",
      "execution_count": 45,
      "outputs": [
        {
          "output_type": "stream",
          "text": "['R', 'Python', 'SAS', 'Scala', 42, 'Java']\n",
          "name": "stdout"
        }
      ]
    },
    {
      "metadata": {
        "trusted": true
      },
      "cell_type": "code",
      "source": "DA_languages.pop()",
      "execution_count": 46,
      "outputs": [
        {
          "output_type": "execute_result",
          "execution_count": 46,
          "data": {
            "text/plain": "'Java'"
          },
          "metadata": {}
        }
      ]
    },
    {
      "metadata": {
        "trusted": true
      },
      "cell_type": "code",
      "source": "DA_languages.pop(0) \nprint(DA_languages)",
      "execution_count": 47,
      "outputs": [
        {
          "output_type": "stream",
          "text": "['Python', 'SAS', 'Scala', 42]\n",
          "name": "stdout"
        }
      ]
    },
    {
      "metadata": {
        "trusted": true
      },
      "cell_type": "code",
      "source": "DA_languages.pop(1)\nprint(DA_languages)",
      "execution_count": 48,
      "outputs": [
        {
          "output_type": "stream",
          "text": "['Python', 'Scala', 42]\n",
          "name": "stdout"
        }
      ]
    },
    {
      "metadata": {
        "trusted": true
      },
      "cell_type": "code",
      "source": "DA_languages.append('R')\nDA_languages.remove('R')\nprint(DA_languages)\n",
      "execution_count": 49,
      "outputs": [
        {
          "output_type": "stream",
          "text": "['Python', 'Scala', 42]\n",
          "name": "stdout"
        }
      ]
    },
    {
      "metadata": {
        "trusted": true
      },
      "cell_type": "code",
      "source": "print(DA_languages.append('R'))\n",
      "execution_count": 50,
      "outputs": [
        {
          "output_type": "stream",
          "text": "None\n",
          "name": "stdout"
        }
      ]
    },
    {
      "metadata": {},
      "cell_type": "markdown",
      "source": "- The above below creates two different references (named `DA_languages` and `new_list`) to the *same* value `['R','Python', 'SAS', 'Scala', 42]`\n\n- Because lists are mutable, changing them can have side-effects on other variables.\n\n- If we append something to `DA_languages` what will happen to `new_list`?"
    },
    {
      "metadata": {
        "trusted": true
      },
      "cell_type": "code",
      "source": "new_list = DA_languages\nDA_languages.append('Java')\nprint(new_list)\n",
      "execution_count": 51,
      "outputs": [
        {
          "output_type": "stream",
          "text": "['Python', 'Scala', 42, 'R', 'Java']\n",
          "name": "stdout"
        }
      ]
    },
    {
      "metadata": {
        "trusted": true
      },
      "cell_type": "code",
      "source": "print(id(DA_languages))",
      "execution_count": 52,
      "outputs": [
        {
          "output_type": "stream",
          "text": "139635629915528\n",
          "name": "stdout"
        }
      ]
    },
    {
      "metadata": {
        "trusted": true
      },
      "cell_type": "code",
      "source": "print(id(new_list))",
      "execution_count": 53,
      "outputs": [
        {
          "output_type": "stream",
          "text": "139635629915528\n",
          "name": "stdout"
        }
      ]
    },
    {
      "metadata": {
        "trusted": true
      },
      "cell_type": "code",
      "source": "new_list = DA_languages[:]\nprint(id(new_list))",
      "execution_count": 54,
      "outputs": [
        {
          "output_type": "stream",
          "text": "139635629914568\n",
          "name": "stdout"
        }
      ]
    },
    {
      "metadata": {
        "trusted": true
      },
      "cell_type": "code",
      "source": "another_list = DA_languages.copy()\nprint(id(another_list))",
      "execution_count": 55,
      "outputs": [
        {
          "output_type": "stream",
          "text": "139635629915848\n",
          "name": "stdout"
        }
      ]
    },
    {
      "metadata": {
        "trusted": true
      },
      "cell_type": "code",
      "source": "myList = [1,2,3,4]\nA = [myList]*3\nprint(A)\nmyList[2]=45\nprint(A)",
      "execution_count": 56,
      "outputs": [
        {
          "output_type": "stream",
          "text": "[[1, 2, 3, 4], [1, 2, 3, 4], [1, 2, 3, 4]]\n[[1, 2, 45, 4], [1, 2, 45, 4], [1, 2, 45, 4]]\n",
          "name": "stdout"
        }
      ]
    },
    {
      "metadata": {
        "trusted": true
      },
      "cell_type": "code",
      "source": "a_sentence = \"Hi Saif, this is to inform you that I'm not well today.\"",
      "execution_count": 57,
      "outputs": []
    },
    {
      "metadata": {
        "trusted": true
      },
      "cell_type": "code",
      "source": "words_in_sentence = a_sentence.split() \nprint(words_in_sentence)",
      "execution_count": 58,
      "outputs": [
        {
          "output_type": "stream",
          "text": "['Hi', 'Saif,', 'this', 'is', 'to', 'inform', 'you', 'that', \"I'm\", 'not', 'well', 'today.']\n",
          "name": "stdout"
        }
      ]
    },
    {
      "metadata": {
        "trusted": true
      },
      "cell_type": "code",
      "source": "a_mail = \"Hi Saif, this is to inform you that I'm not well today. I won't be coming to office, but I'm available on call. Thanks.\"",
      "execution_count": 59,
      "outputs": []
    },
    {
      "metadata": {
        "trusted": true
      },
      "cell_type": "code",
      "source": "sentences_in_mail = a_mail.split('.')\nprint(sentences_in_mail)",
      "execution_count": 60,
      "outputs": [
        {
          "output_type": "stream",
          "text": "[\"Hi Saif, this is to inform you that I'm not well today\", \" I won't be coming to office, but I'm available on call\", ' Thanks', '']\n",
          "name": "stdout"
        }
      ]
    },
    {
      "metadata": {
        "trusted": true
      },
      "cell_type": "code",
      "source": "mail = \" \".join(sentences_in_mail)\nprint(mail)",
      "execution_count": 61,
      "outputs": [
        {
          "output_type": "stream",
          "text": "Hi Saif, this is to inform you that I'm not well today  I won't be coming to office, but I'm available on call  Thanks \n",
          "name": "stdout"
        }
      ]
    },
    {
      "metadata": {
        "trusted": true
      },
      "cell_type": "code",
      "source": "mail_new = \" & \".join(sentences_in_mail)\nprint(mail_new)",
      "execution_count": 62,
      "outputs": [
        {
          "output_type": "stream",
          "text": "Hi Saif, this is to inform you that I'm not well today &  I won't be coming to office, but I'm available on call &  Thanks & \n",
          "name": "stdout"
        }
      ]
    },
    {
      "metadata": {
        "trusted": true
      },
      "cell_type": "code",
      "source": "my_list = [\"Hi\"]\nprint(my_list*5)",
      "execution_count": 63,
      "outputs": [
        {
          "output_type": "stream",
          "text": "['Hi', 'Hi', 'Hi', 'Hi', 'Hi']\n",
          "name": "stdout"
        }
      ]
    },
    {
      "metadata": {
        "trusted": true
      },
      "cell_type": "code",
      "source": "names = ['Earth','Air','Fire','Water']\n\n## Lets check if the items 'Air' and 'Wind' are present in the list or not\n\n'Wind' in names",
      "execution_count": 64,
      "outputs": [
        {
          "output_type": "execute_result",
          "execution_count": 64,
          "data": {
            "text/plain": "False"
          },
          "metadata": {}
        }
      ]
    },
    {
      "metadata": {
        "trusted": true
      },
      "cell_type": "code",
      "source": "'Air' in names",
      "execution_count": 65,
      "outputs": [
        {
          "output_type": "execute_result",
          "execution_count": 65,
          "data": {
            "text/plain": "True"
          },
          "metadata": {}
        }
      ]
    },
    {
      "metadata": {},
      "cell_type": "markdown",
      "source": "## Sorting\n\nYou can sort a list in-place (without creating a new object) by calling its `sort` function:"
    },
    {
      "metadata": {
        "trusted": true
      },
      "cell_type": "code",
      "source": "nums = [2,6,9,3,2,1]\nprint(len(nums))",
      "execution_count": 66,
      "outputs": [
        {
          "output_type": "stream",
          "text": "6\n",
          "name": "stdout"
        }
      ]
    },
    {
      "metadata": {
        "trusted": true
      },
      "cell_type": "code",
      "source": "nums.sort()\nnums",
      "execution_count": 67,
      "outputs": [
        {
          "output_type": "execute_result",
          "execution_count": 67,
          "data": {
            "text/plain": "[1, 2, 2, 3, 6, 9]"
          },
          "metadata": {}
        }
      ]
    },
    {
      "metadata": {},
      "cell_type": "markdown",
      "source": "### sorted\n\nThe sorted function returns a new sorted list from the elements of any sequence:"
    },
    {
      "metadata": {
        "trusted": true
      },
      "cell_type": "code",
      "source": "print(sorted(nums))",
      "execution_count": 68,
      "outputs": [
        {
          "output_type": "stream",
          "text": "[1, 2, 2, 3, 6, 9]\n",
          "name": "stdout"
        }
      ]
    },
    {
      "metadata": {},
      "cell_type": "markdown",
      "source": "sort has a few options that will occasionally come in handy. One is the ability to pass a secondary sort `key` —that is, a function that produces a value to use to sort the objects."
    },
    {
      "metadata": {
        "trusted": true
      },
      "cell_type": "code",
      "source": "b = ['saw', 'small', 'He', 'foxes', 'six']\nb.sort(key=len)\nb",
      "execution_count": 69,
      "outputs": [
        {
          "output_type": "execute_result",
          "execution_count": 69,
          "data": {
            "text/plain": "['He', 'saw', 'six', 'small', 'foxes']"
          },
          "metadata": {}
        }
      ]
    },
    {
      "metadata": {
        "trusted": true
      },
      "cell_type": "code",
      "source": "names = ['Earth','Air','Fire','Water']\n\nnames.sort()\nprint(names)\nnames.sort(reverse=True)\nprint(names)",
      "execution_count": 70,
      "outputs": [
        {
          "output_type": "stream",
          "text": "['Air', 'Earth', 'Fire', 'Water']\n['Water', 'Fire', 'Earth', 'Air']\n",
          "name": "stdout"
        }
      ]
    },
    {
      "metadata": {
        "trusted": true
      },
      "cell_type": "code",
      "source": "print(max(nums))",
      "execution_count": 71,
      "outputs": [
        {
          "output_type": "stream",
          "text": "9\n",
          "name": "stdout"
        }
      ]
    },
    {
      "metadata": {
        "trusted": true
      },
      "cell_type": "code",
      "source": "print(min(nums))",
      "execution_count": 72,
      "outputs": [
        {
          "output_type": "stream",
          "text": "1\n",
          "name": "stdout"
        }
      ]
    },
    {
      "metadata": {},
      "cell_type": "markdown",
      "source": "In a list with elements as string, **max( )** and **min( )** is applicable. **max( )** would return a string element whose ASCII value is the highest and the lowest when **min( )** is used. Note that only the first index of each element is considered each time and if they value is the same then second index considered so on and so forth."
    },
    {
      "metadata": {
        "trusted": true
      },
      "cell_type": "code",
      "source": "mlist = ['bzaa','ds','nc','az','z','klm']\nprint(max(mlist))\nprint(min(mlist))",
      "execution_count": 73,
      "outputs": [
        {
          "output_type": "stream",
          "text": "z\naz\n",
          "name": "stdout"
        }
      ]
    },
    {
      "metadata": {},
      "cell_type": "markdown",
      "source": "Here the first index of each element is considered and thus z has the highest ASCII value thus it is returned and minimum ASCII is a. But what if numbers are declared as strings?"
    },
    {
      "metadata": {
        "trusted": true
      },
      "cell_type": "code",
      "source": "nlist = ['1','94','93','1000']\nprint(max(nlist))\nprint(min(nlist))",
      "execution_count": 74,
      "outputs": [
        {
          "output_type": "stream",
          "text": "94\n1\n",
          "name": "stdout"
        }
      ]
    },
    {
      "metadata": {},
      "cell_type": "markdown",
      "source": "Even if the numbers are declared in a string the first index of each element is considered and the maximum and minimum values are returned accordingly.\n\nBut if you want to find the **max( )** string element based on the length of the string then another parameter 'key=len' is declared inside the **max( )** and **min( )** function."
    },
    {
      "metadata": {
        "trusted": true
      },
      "cell_type": "code",
      "source": "names = ['Earth','Air','Fire','Water']\nprint(max(names, key=len))\nprint(min(names, key=len))",
      "execution_count": 75,
      "outputs": [
        {
          "output_type": "stream",
          "text": "Earth\nAir\n",
          "name": "stdout"
        }
      ]
    },
    {
      "metadata": {},
      "cell_type": "markdown",
      "source": "## Reversing"
    },
    {
      "metadata": {
        "trusted": true
      },
      "cell_type": "code",
      "source": "print(names)\nprint(list(reversed(names)))",
      "execution_count": 76,
      "outputs": [
        {
          "output_type": "stream",
          "text": "['Earth', 'Air', 'Fire', 'Water']\n['Water', 'Fire', 'Air', 'Earth']\n",
          "name": "stdout"
        }
      ]
    },
    {
      "metadata": {
        "trusted": true
      },
      "cell_type": "code",
      "source": "nest = [[1, 2, 3, 4], [ 5, 6, 7], [8, 9, 10]]\n\nprint(nest[1])\n",
      "execution_count": 77,
      "outputs": [
        {
          "output_type": "stream",
          "text": "[5, 6, 7]\n",
          "name": "stdout"
        }
      ]
    },
    {
      "metadata": {
        "trusted": true
      },
      "cell_type": "code",
      "source": "print(nest[0][1])",
      "execution_count": 78,
      "outputs": [
        {
          "output_type": "stream",
          "text": "2\n",
          "name": "stdout"
        }
      ]
    },
    {
      "metadata": {
        "trusted": true
      },
      "cell_type": "code",
      "source": "print(nest[0:2])",
      "execution_count": 79,
      "outputs": [
        {
          "output_type": "stream",
          "text": "[[1, 2, 3, 4], [5, 6, 7]]\n",
          "name": "stdout"
        }
      ]
    },
    {
      "metadata": {
        "trusted": true
      },
      "cell_type": "code",
      "source": "##### Questions:1/1\n\n#Remove SPSS from input_list=['SAS', 'R', 'PYTHON', 'SPSS'] and add 'SPARK' in its place.\n\ninput_list=['SAS', 'R', 'PYTHON', 'SPSS']\ninput_list.pop(3)\ninput_list.append('SPARK')\nprint(input_list)\n",
      "execution_count": 80,
      "outputs": [
        {
          "output_type": "stream",
          "text": "['SAS', 'R', 'PYTHON', 'SPARK']\n",
          "name": "stdout"
        }
      ]
    },
    {
      "metadata": {
        "trusted": true
      },
      "cell_type": "code",
      "source": "## Aliter\n\nimport ast,sys\ninput_list =['SAS', 'R', 'PYTHON', 'SPSS']\ninput_list.remove('SPSS')\ninput_list.append('SPARK')\nprint(input_list)",
      "execution_count": 81,
      "outputs": [
        {
          "output_type": "stream",
          "text": "['SAS', 'R', 'PYTHON', 'SPARK']\n",
          "name": "stdout"
        }
      ]
    },
    {
      "metadata": {},
      "cell_type": "markdown",
      "source": "#### string to list conversion\n\nDescription \n\nA string can be converted into a list by using the `list()` function."
    },
    {
      "metadata": {
        "trusted": true
      },
      "cell_type": "code",
      "source": "list('UpGrad')",
      "execution_count": 82,
      "outputs": [
        {
          "output_type": "execute_result",
          "execution_count": 82,
          "data": {
            "text/plain": "['U', 'p', 'G', 'r', 'a', 'd']"
          },
          "metadata": {}
        }
      ]
    },
    {
      "metadata": {},
      "cell_type": "markdown",
      "source": " \n\nQuestions:Convert a string input_str = 'I love Data Science & Python' to a list by splitting it on ‘&’. The sample output for this string will be:  \n['I love Data Science ', ' Python']"
    },
    {
      "metadata": {
        "trusted": true
      },
      "cell_type": "code",
      "source": "input_str = 'I love Data Science & Python'\n\ninput_str_split=input_str.split('&')\nprint(input_str_split)",
      "execution_count": 83,
      "outputs": [
        {
          "output_type": "stream",
          "text": "['I love Data Science ', ' Python']\n",
          "name": "stdout"
        }
      ]
    },
    {
      "metadata": {},
      "cell_type": "markdown",
      "source": "List of words? Let's try using `.split()` which splits a string on the basis of spaces."
    },
    {
      "metadata": {
        "trusted": true
      },
      "cell_type": "code",
      "source": "test_string = 'I will now convert this to a list of words'\nprint(test_string.split())",
      "execution_count": 84,
      "outputs": [
        {
          "output_type": "stream",
          "text": "['I', 'will', 'now', 'convert', 'this', 'to', 'a', 'list', 'of', 'words']\n",
          "name": "stdout"
        }
      ]
    },
    {
      "metadata": {},
      "cell_type": "markdown",
      "source": "What about splitting on something else? Like a period? and then try to make it like a normal sentence using .join?"
    },
    {
      "metadata": {
        "trusted": true
      },
      "cell_type": "code",
      "source": "string_to_split = 'Hi.Can.we.get.rid.of.the.periods.here'\nlist_var = string_to_split.split('.')\nprint(list_var)",
      "execution_count": 85,
      "outputs": [
        {
          "output_type": "stream",
          "text": "['Hi', 'Can', 'we', 'get', 'rid', 'of', 'the', 'periods', 'here']\n",
          "name": "stdout"
        }
      ]
    },
    {
      "metadata": {
        "trusted": true
      },
      "cell_type": "code",
      "source": "#Let's join it back with spaces and reassign it to the original name\nstring_to_split = \" \".join(list_var)\nprint(string_to_split)",
      "execution_count": 86,
      "outputs": [
        {
          "output_type": "stream",
          "text": "Hi Can we get rid of the periods here\n",
          "name": "stdout"
        }
      ]
    },
    {
      "metadata": {
        "trusted": true
      },
      "cell_type": "code",
      "source": "#Let's do it as a one-liner\nstring_to_split = 'Hi.Can.we.get.rid.of.the.periods.here'\nout =  \" \".join(string_to_split.split('.'))\nprint(out)",
      "execution_count": 87,
      "outputs": [
        {
          "output_type": "stream",
          "text": "Hi Can we get rid of the periods here\n",
          "name": "stdout"
        }
      ]
    },
    {
      "metadata": {},
      "cell_type": "markdown",
      "source": "### List to String\n\nQs:Convert a list `['Pythons syntax is easy to learn', 'Pythons syntax is very clear']` to a string using ‘&’. The sample output of this string will be:   \n`Pythons syntax is easy to learn & Pythons syntax is very clear`"
    },
    {
      "metadata": {
        "trusted": true
      },
      "cell_type": "code",
      "source": "input_str=['Pythons syntax is easy to learn', 'Pythons syntax is very clear']\n\nstring_1 = ' & '.join(input_str)\nprint(string_1)",
      "execution_count": 88,
      "outputs": [
        {
          "output_type": "stream",
          "text": "Pythons syntax is easy to learn & Pythons syntax is very clear\n",
          "name": "stdout"
        }
      ]
    },
    {
      "metadata": {},
      "cell_type": "markdown",
      "source": "#### Nested List  \n\nQs:Extract Python from a nested list `input_list = [['SAS','R'],['Tableau','SQL'],['Python','Java']]`"
    },
    {
      "metadata": {
        "trusted": true
      },
      "cell_type": "code",
      "source": "input_list = [['SAS','R'],['Tableau','SQL'],['Python','Java']]\n    \nanswer = input_list[2][0]\nprint(answer)\n",
      "execution_count": 89,
      "outputs": [
        {
          "output_type": "stream",
          "text": "Python\n",
          "name": "stdout"
        }
      ]
    },
    {
      "metadata": {},
      "cell_type": "markdown",
      "source": "# State and identity\n\n- The state referred to by a variable is *different* from its identity.\n\n- To compare *state* use the `==` operator.\n\n- To compare *identity* use the `is` operator.\n\n- When we compare identity we check equality of references.\n\n- When we compare state we check equality of values.\n"
    },
    {
      "metadata": {
        "trusted": true
      },
      "cell_type": "code",
      "source": "X = [1, 2]\nY = [1]\nY.append(2)",
      "execution_count": 90,
      "outputs": []
    },
    {
      "metadata": {
        "trusted": true
      },
      "cell_type": "code",
      "source": "X == Y",
      "execution_count": 91,
      "outputs": [
        {
          "output_type": "execute_result",
          "execution_count": 91,
          "data": {
            "text/plain": "True"
          },
          "metadata": {}
        }
      ]
    },
    {
      "metadata": {
        "trusted": true
      },
      "cell_type": "code",
      "source": "X is Y",
      "execution_count": 92,
      "outputs": [
        {
          "output_type": "execute_result",
          "execution_count": 92,
          "data": {
            "text/plain": "False"
          },
          "metadata": {}
        }
      ]
    },
    {
      "metadata": {
        "trusted": true
      },
      "cell_type": "code",
      "source": "Y.append(3)\nX",
      "execution_count": 93,
      "outputs": [
        {
          "output_type": "execute_result",
          "execution_count": 93,
          "data": {
            "text/plain": "[1, 2]"
          },
          "metadata": {}
        }
      ]
    },
    {
      "metadata": {},
      "cell_type": "markdown",
      "source": "## List  Slicing\n\nIndexing was only limited to accessing a single element, Slicing on the other hand is accessing a sequence of data inside the list. In other words \"slicing\" the list.\n\nSlicing is done by defining the index values of the first element and the last element from the parent list that is required in the sliced list. It is written as `parentlist[ a : b ]` where a,b are the index values from the parent list. While the element at the **start index is included, the stop index is not included**.If a or b is not defined then the index value is considered to be the first value for a if a is not defined and the last value for b when b is not defined."
    },
    {
      "metadata": {},
      "cell_type": "markdown",
      "source": "#### List Slicing\n\nRead [this document](https://docs.python.org/3/tutorial/introduction.html#lists), and answer the following question.\n\nGiven a non-empty list 'names', which of the following statements would extract the first three elements from the list?(More than one answer may be correct.)"
    },
    {
      "metadata": {
        "trusted": true
      },
      "cell_type": "code",
      "source": "names=['nishant','simant','motu','dad','mom']\n\nprint(names[:3])  ## If we leave the starting index value, it will be taken as zero. So in this case names[:3] will be equivalent to names[0:3].\nprint(names[0:3]) # names[0:3] will return values with indexes 0, 1, 2.",
      "execution_count": 94,
      "outputs": [
        {
          "output_type": "stream",
          "text": "['nishant', 'simant', 'motu']\n['nishant', 'simant', 'motu']\n",
          "name": "stdout"
        }
      ]
    },
    {
      "metadata": {
        "trusted": true
      },
      "cell_type": "code",
      "source": "num_range = [0,1,2,3,4,5,6,7,8,9]\nprint(num_range[0:4])\nprint(num_range[4:])",
      "execution_count": 95,
      "outputs": [
        {
          "output_type": "stream",
          "text": "[0, 1, 2, 3]\n[4, 5, 6, 7, 8, 9]\n",
          "name": "stdout"
        }
      ]
    },
    {
      "metadata": {},
      "cell_type": "markdown",
      "source": "### Copying a list  \nMost of the new python programmers commit this mistake. Consider the following,"
    },
    {
      "metadata": {
        "trusted": true
      },
      "cell_type": "code",
      "source": "lista= [2,1,4,3]",
      "execution_count": 96,
      "outputs": []
    },
    {
      "metadata": {
        "trusted": true
      },
      "cell_type": "code",
      "source": "listb = lista\nprint(listb)",
      "execution_count": 97,
      "outputs": [
        {
          "output_type": "stream",
          "text": "[2, 1, 4, 3]\n",
          "name": "stdout"
        }
      ]
    },
    {
      "metadata": {},
      "cell_type": "markdown",
      "source": "Here, We have declared a list, lista = [2,1,4,3]. This list is copied to listb by assigning it's value and it get's copied as seen. Now we perform some random operations on lista."
    },
    {
      "metadata": {
        "trusted": true
      },
      "cell_type": "code",
      "source": "lista.pop()\nprint(lista)\nlista.append(9)\nprint(lista)",
      "execution_count": 98,
      "outputs": [
        {
          "output_type": "stream",
          "text": "[2, 1, 4]\n[2, 1, 4, 9]\n",
          "name": "stdout"
        }
      ]
    },
    {
      "metadata": {
        "trusted": true
      },
      "cell_type": "code",
      "source": "print(listb)",
      "execution_count": 99,
      "outputs": [
        {
          "output_type": "stream",
          "text": "[2, 1, 4, 9]\n",
          "name": "stdout"
        }
      ]
    },
    {
      "metadata": {},
      "cell_type": "markdown",
      "source": "`listb` has also changed though no operation has been performed on it. This is because you have assigned the same memory space of lista to listb. So how do fix this?\n\nIf you recall, in slicing we had seen that `parentlist[a:b]` returns a list from parent list with start index a and end index b and if a and b is not mentioned then by default it considers the first and last element. We use the same concept here. By doing so, we are assigning the data of lista to `listb` as a variable."
    },
    {
      "metadata": {
        "trusted": true
      },
      "cell_type": "code",
      "source": "lista = [2,1,4,3]\nlistb = lista[:]\nprint(listb)\nlista.pop()\nprint(lista)\nlista.append(9)\nprint(lista)",
      "execution_count": 100,
      "outputs": [
        {
          "output_type": "stream",
          "text": "[2, 1, 4, 3]\n[2, 1, 4]\n[2, 1, 4, 9]\n",
          "name": "stdout"
        }
      ]
    },
    {
      "metadata": {
        "trusted": true
      },
      "cell_type": "code",
      "source": "print(listb)",
      "execution_count": 101,
      "outputs": [
        {
          "output_type": "stream",
          "text": "[2, 1, 4, 3]\n",
          "name": "stdout"
        }
      ]
    },
    {
      "metadata": {},
      "cell_type": "markdown",
      "source": "Take a look at the next block of code to get familiar with the list methods"
    },
    {
      "metadata": {
        "trusted": true
      },
      "cell_type": "code",
      "source": "myList = [1024, 3, True, 6.5]\nmyList.append(False)\nprint(myList)\nmyList.insert(2,4.5)\nprint(myList)\nprint(myList.pop())\nprint(myList)\nprint(myList.pop(1))\nprint(myList)\nmyList.pop(2)\nprint(myList)\nmyList.sort()\nprint(myList)\nmyList.reverse()\nprint(myList)\nprint(myList.count(6.5))\nprint(myList.index(4.5))\nmyList.remove(6.5)\nprint(myList)\ndel myList[0]\nprint(myList)",
      "execution_count": 102,
      "outputs": [
        {
          "output_type": "stream",
          "text": "[1024, 3, True, 6.5, False]\n[1024, 3, 4.5, True, 6.5, False]\nFalse\n[1024, 3, 4.5, True, 6.5]\n3\n[1024, 4.5, True, 6.5]\n[1024, 4.5, 6.5]\n[4.5, 6.5, 1024]\n[1024, 6.5, 4.5]\n1\n2\n[1024, 4.5]\n[4.5]\n",
          "name": "stdout"
        }
      ]
    },
    {
      "metadata": {},
      "cell_type": "markdown",
      "source": "#### List Casting\n\nQs:If word = ['1','2','3','4'], what will be the output of the following code?\n\nword[ : ] = [ ] \nprint(word)"
    },
    {
      "metadata": {
        "trusted": true
      },
      "cell_type": "code",
      "source": "word = ['1','2','3','4']\nword[ : ] = [ ] \nprint(word)",
      "execution_count": 103,
      "outputs": [
        {
          "output_type": "stream",
          "text": "[]\n",
          "name": "stdout"
        }
      ]
    },
    {
      "metadata": {},
      "cell_type": "markdown",
      "source": "We are indexing all the elements of the list word to an empty list hence the final output will be an empty list. So this method can also be used to delete all the items from a list."
    },
    {
      "metadata": {},
      "cell_type": "markdown",
      "source": "## List Indexing\n\n- Lists can be indexed using square brackets to retrieve the element stored in a particular position.  \n- Indexing is exactly similar to indexing in strings except that indexing in lists returns the entire item at that position whereas in strings, the character at that position is returned\n\n\n### negative indexing\n"
    },
    {
      "metadata": {
        "trusted": true
      },
      "cell_type": "markdown",
      "source": "<img src = \"https://github.com/nishantsbi/Medium_articles/blob/master/picures/neg.PNG?raw=true\">\n"
    },
    {
      "metadata": {},
      "cell_type": "markdown",
      "source": "##### List Indexing\n\nSuppose list_1 is [2, 33, 222, 14, 25]. What is list_1[-1]?"
    },
    {
      "metadata": {
        "trusted": true
      },
      "cell_type": "code",
      "source": "list_1= [2, 33, 222, 14, 25]\nlist_1[-1]",
      "execution_count": 105,
      "outputs": [
        {
          "output_type": "execute_result",
          "execution_count": 105,
          "data": {
            "text/plain": "25"
          },
          "metadata": {}
        }
      ]
    },
    {
      "metadata": {},
      "cell_type": "markdown",
      "source": "Index value -1 returns the last element. If list_2 = ['a', 'b', 'c', 'd'] then list_2[-2] will be 'c'."
    },
    {
      "metadata": {},
      "cell_type": "markdown",
      "source": "##### List Indexing 2\n\nSuppose list_1 is [2, 33, 222, 14, 25]. What is list_1[-3]?"
    },
    {
      "metadata": {
        "trusted": true
      },
      "cell_type": "code",
      "source": "list_1= [2, 33, 222, 14, 25]\nlist_1[-3]",
      "execution_count": 106,
      "outputs": [
        {
          "output_type": "execute_result",
          "execution_count": 106,
          "data": {
            "text/plain": "222"
          },
          "metadata": {}
        }
      ]
    },
    {
      "metadata": {},
      "cell_type": "markdown",
      "source": "Index value -3 returns the third-last element. If list_2 = ['a', 'b', 'c', 'd'] then list_2[-2] will be 'c'."
    },
    {
      "metadata": {},
      "cell_type": "markdown",
      "source": "### Built-in Sequence Functions  \nPython has a handful of useful sequence functions that you should familiarize yourself\nwith and use at any opportunity\n\n\n### enumerate\n\nIt’s common when iterating over a sequence to want to keep track of the index of the current item. A do-it-yourself approach would look like:\n\n    `i = 0  \n    for value in collection:  \n      #do something with value  \n       i += 1`\n   \nSince this is so common, Python has a built-in function, enumerate, which returns a sequence of (i, value) tuples:\n\n    `for i, value in enumerate(collection):\n        #do something with value`\n    \nWhen you are indexing data, a helpful pattern that uses enumerate is computing a dict mapping the values of a sequence (which are assumed to be unique) to their locations in the sequence:"
    },
    {
      "metadata": {
        "trusted": true
      },
      "cell_type": "code",
      "source": "some_list = ['foo', 'bar', 'baz']\nmapping = {}\nfor i, v in enumerate(some_list):\n    mapping[v] = i\n    \nmapping",
      "execution_count": 107,
      "outputs": [
        {
          "output_type": "execute_result",
          "execution_count": 107,
          "data": {
            "text/plain": "{'bar': 1, 'baz': 2, 'foo': 0}"
          },
          "metadata": {}
        }
      ]
    },
    {
      "metadata": {},
      "cell_type": "markdown",
      "source": "### zip\n\nzip **“pairs”** up the elements of a number of lists, tuples, or other sequences to create a list of tuples:"
    },
    {
      "metadata": {
        "trusted": true
      },
      "cell_type": "code",
      "source": "seq1 = ['foo', 'bar', 'baz']\nseq2 = ['one', 'two', 'three']\n\nzipped = zip(seq1, seq2)\nlist(zipped)",
      "execution_count": 108,
      "outputs": [
        {
          "output_type": "execute_result",
          "execution_count": 108,
          "data": {
            "text/plain": "[('foo', 'one'), ('bar', 'two'), ('baz', 'three')]"
          },
          "metadata": {}
        }
      ]
    },
    {
      "metadata": {
        "trusted": true
      },
      "cell_type": "code",
      "source": "## A very common use of zip is simultaneously iterating over multiple sequences, possibly also combined with enumerate:\nfor i, (a, b) in enumerate(zip(seq1, seq2)):\n    print('{0}: {1}, {2}'.format(i, a, b))",
      "execution_count": 109,
      "outputs": [
        {
          "output_type": "stream",
          "text": "0: foo, one\n1: bar, two\n2: baz, three\n",
          "name": "stdout"
        }
      ]
    },
    {
      "metadata": {},
      "cell_type": "markdown",
      "source": "Given a “zipped” sequence, zip can be applied in a clever way to “unzip” the sequence. Another way to think about this is onverting a list of rows into a list of columns. The syntax, which looks a bit magical, is:"
    },
    {
      "metadata": {
        "trusted": true
      },
      "cell_type": "code",
      "source": "pitchers = [('Nolan', 'Ryan'), ('Roger', 'Clemens'),('Schilling', 'Curt')]\nfirst_names, last_names = zip(*pitchers)\nprint(first_names)\nprint(last_names)",
      "execution_count": 110,
      "outputs": [
        {
          "output_type": "stream",
          "text": "('Nolan', 'Roger', 'Schilling')\n('Ryan', 'Clemens', 'Curt')\n",
          "name": "stdout"
        }
      ]
    },
    {
      "metadata": {},
      "cell_type": "markdown",
      "source": "##### Additional Reading\n\n+ [Python data structures](https://docs.python.org/3/tutorial/datastructures.html)\n+ [Problem-solving with algorithms](http://interactivepython.org/runestone/static/pythonds/Introduction/GettingStartedwithData.html#built-in-collection-data-types)"
    },
    {
      "metadata": {},
      "cell_type": "markdown",
      "source": "## Tuples\n\nTuples are data structures that are similar to lists in all aspects except in the way they are\ndeclared and how much they allow themselves to be modified. **A tuple once created\ncannot be modified.**\n\n\n- Tuples are another way to combine different values.\n\n- The combined values can be of different types.\n\n- Like lists, they have a well-defined ordering and can be indexed.\n\n- To create a tuple in Python, use round brackets instead of square brackets\n\nAs you saw in the previous segment, lists can be changed, and sometimes when you're\nstoring important information in a list and using it somewhere else in your code, you run\nthe risk of accidentally modifying the list and losing data or corrupting it. Tuples help you\nsolve this problem.\n\nA tuple is a fixed-length, immutable sequence of Python objects. The easiest way to\ncreate one is with a comma-separated sequence of values:\n\n`In [1]: tup = 4, 5, 6\nIn [2]: tup\nOut[2]: (4, 5, 6)`"
    },
    {
      "metadata": {
        "trusted": true
      },
      "cell_type": "markdown",
      "source": "<img src = \"https://github.com/nishantsbi/Medium_articles/blob/master/picures/3.PNG?raw=true\">"
    },
    {
      "metadata": {
        "trusted": true
      },
      "cell_type": "code",
      "source": "first_tuple = (\"Monty Python\", 30, \"Baker Street\", 5.8)\nprint(first_tuple[0])\n",
      "execution_count": 112,
      "outputs": [
        {
          "output_type": "stream",
          "text": "Monty Python\n",
          "name": "stdout"
        }
      ]
    },
    {
      "metadata": {
        "trusted": true
      },
      "cell_type": "code",
      "source": "city_tuple = (\"Mumbai\", 18.9949521, 72.8141853) \nprint(city_tuple)",
      "execution_count": 113,
      "outputs": [
        {
          "output_type": "stream",
          "text": "('Mumbai', 18.9949521, 72.8141853)\n",
          "name": "stdout"
        }
      ]
    },
    {
      "metadata": {
        "trusted": true
      },
      "cell_type": "code",
      "source": "new_tuple = city_tuple\nprint(new_tuple)",
      "execution_count": 114,
      "outputs": [
        {
          "output_type": "stream",
          "text": "('Mumbai', 18.9949521, 72.8141853)\n",
          "name": "stdout"
        }
      ]
    },
    {
      "metadata": {},
      "cell_type": "markdown",
      "source": "## Tuples are immutable\n\n- Unlike lists, tuples are *immutable*.  Once we have created a tuple we cannot add values to it."
    },
    {
      "metadata": {
        "trusted": true
      },
      "cell_type": "code",
      "source": "## Immutability property of tuples\nnew_tuple[1] = 13.8877",
      "execution_count": 115,
      "outputs": [
        {
          "output_type": "error",
          "ename": "TypeError",
          "evalue": "'tuple' object does not support item assignment",
          "traceback": [
            "\u001b[0;31m---------------------------------------------------------------------------\u001b[0m",
            "\u001b[0;31mTypeError\u001b[0m                                 Traceback (most recent call last)",
            "\u001b[0;32m<ipython-input-115-3a77ef16a8bc>\u001b[0m in \u001b[0;36m<module>\u001b[0;34m()\u001b[0m\n\u001b[1;32m      1\u001b[0m \u001b[0;31m## Immutability property of tuples\u001b[0m\u001b[0;34m\u001b[0m\u001b[0;34m\u001b[0m\u001b[0m\n\u001b[0;32m----> 2\u001b[0;31m \u001b[0mnew_tuple\u001b[0m\u001b[0;34m[\u001b[0m\u001b[0;36m1\u001b[0m\u001b[0;34m]\u001b[0m \u001b[0;34m=\u001b[0m \u001b[0;36m13.8877\u001b[0m\u001b[0;34m\u001b[0m\u001b[0m\n\u001b[0m",
            "\u001b[0;31mTypeError\u001b[0m: 'tuple' object does not support item assignment"
          ]
        }
      ]
    },
    {
      "metadata": {
        "trusted": true
      },
      "cell_type": "code",
      "source": "b = city_tuple[:-1]\nprint(b)\nprint(len(b))",
      "execution_count": 117,
      "outputs": [
        {
          "output_type": "stream",
          "text": "('Mumbai', 18.9949521)\n2\n",
          "name": "stdout"
        }
      ]
    },
    {
      "metadata": {
        "trusted": true
      },
      "cell_type": "code",
      "source": "## convert any sequence or iterator to a tuple by invoking `tuple`\n\nc = list(b)\nprint(\"c is: {0}\".format(c))\nc= tuple(c)\nprint(\"c is now a tuple: {0}\".format(c))",
      "execution_count": 118,
      "outputs": [
        {
          "output_type": "stream",
          "text": "c is: ['Mumbai', 18.9949521]\nc is now a tuple: ('Mumbai', 18.9949521)\n",
          "name": "stdout"
        }
      ]
    },
    {
      "metadata": {},
      "cell_type": "markdown",
      "source": "Tuples are similar to lists but only big difference is the elements inside a list can be changed but in tuple it cannot be changed. Think of tuples as something which has to be True for a particular something and cannot be True for no other values. For better understanding, let's use the **divmod()** function."
    },
    {
      "metadata": {
        "trusted": true
      },
      "cell_type": "code",
      "source": "xyz = divmod(10,3)\nprint(xyz)\nprint(type(xyz))",
      "execution_count": 119,
      "outputs": [
        {
          "output_type": "stream",
          "text": "(3, 1)\n<class 'tuple'>\n",
          "name": "stdout"
        }
      ]
    },
    {
      "metadata": {},
      "cell_type": "markdown",
      "source": "Here the quotient has to be 3 and the remainder has to be 1. These values cannot be changed whatsoever when 10 is divided by 3. Hence divmod returns these values in a tuple."
    },
    {
      "metadata": {},
      "cell_type": "markdown",
      "source": "**If you want to directly declare a tuple it can be done by using a comma at the end of the data.**"
    },
    {
      "metadata": {
        "trusted": true
      },
      "cell_type": "code",
      "source": "27,",
      "execution_count": 120,
      "outputs": [
        {
          "output_type": "execute_result",
          "execution_count": 120,
          "data": {
            "text/plain": "(27,)"
          },
          "metadata": {}
        }
      ]
    },
    {
      "metadata": {},
      "cell_type": "markdown",
      "source": "27 when multiplied by 2 yields 54, But when multiplied with a tuple the data is repeated twice."
    },
    {
      "metadata": {
        "trusted": true
      },
      "cell_type": "code",
      "source": "2*(27,)",
      "execution_count": 121,
      "outputs": [
        {
          "output_type": "execute_result",
          "execution_count": 121,
          "data": {
            "text/plain": "(27, 27)"
          },
          "metadata": {}
        }
      ]
    },
    {
      "metadata": {},
      "cell_type": "markdown",
      "source": "Values can be assigned while declaring a tuple. It takes a list as input and converts it into a tuple or it takes a string and converts it into a tuple."
    },
    {
      "metadata": {
        "trusted": true
      },
      "cell_type": "code",
      "source": "tup3 = tuple([1,2,3])\nprint(tup3)\ntup4 = tuple('Hello')\nprint(tup4)",
      "execution_count": 122,
      "outputs": [
        {
          "output_type": "stream",
          "text": "(1, 2, 3)\n('H', 'e', 'l', 'l', 'o')\n",
          "name": "stdout"
        }
      ]
    },
    {
      "metadata": {},
      "cell_type": "markdown",
      "source": "**Multiplying a tuple by an integer, as with lists, has the effect of concatenating together that many copies of the tuple**"
    },
    {
      "metadata": {
        "trusted": true
      },
      "cell_type": "code",
      "source": "('foo', 'bar') * 4",
      "execution_count": 123,
      "outputs": [
        {
          "output_type": "execute_result",
          "execution_count": 123,
          "data": {
            "text/plain": "('foo', 'bar', 'foo', 'bar', 'foo', 'bar', 'foo', 'bar')"
          },
          "metadata": {}
        }
      ]
    },
    {
      "metadata": {},
      "cell_type": "markdown",
      "source": "## Slicing  \n*Slicing is similar to lists*"
    },
    {
      "metadata": {
        "trusted": true
      },
      "cell_type": "code",
      "source": "print(tup3[1])\ntup5 = tup4[:3]\nprint(tup5)",
      "execution_count": 124,
      "outputs": [
        {
          "output_type": "stream",
          "text": "2\n('H', 'e', 'l')\n",
          "name": "stdout"
        }
      ]
    },
    {
      "metadata": {},
      "cell_type": "markdown",
      "source": "**A common use of variable unpacking is iterating over sequences of tuples or lists**"
    },
    {
      "metadata": {
        "trusted": true
      },
      "cell_type": "code",
      "source": "seq = [(1, 2, 3), (4, 5, 6), (7, 8, 9)]\nfor a, b, c in seq:\n    print('a={0}, b={1}, c={2}'.format(a, b, c))",
      "execution_count": 125,
      "outputs": [
        {
          "output_type": "stream",
          "text": "a=1, b=2, c=3\na=4, b=5, c=6\na=7, b=8, c=9\n",
          "name": "stdout"
        }
      ]
    },
    {
      "metadata": {},
      "cell_type": "markdown",
      "source": "## Built In Tuple functions  \n**count()** function counts the number of specified element that is present in the tuple.  \n**index()** function returns the index of the specified element. If the elements are more than one then the index of the first element of that specified element is returned"
    },
    {
      "metadata": {
        "trusted": true
      },
      "cell_type": "code",
      "source": "example = (\"Mumbai\",\"Chennai\",\"Delhi\",\"Kolkatta\",\"Mumbai\",\"Bangalore\")\nprint(example.count(\"Mumbai\"))\n\nprint(example.index(\"Delhi\"))",
      "execution_count": 126,
      "outputs": [
        {
          "output_type": "stream",
          "text": "2\n2\n",
          "name": "stdout"
        }
      ]
    },
    {
      "metadata": {},
      "cell_type": "markdown",
      "source": "### Qs\n\nTuple\n\nAdd the element ‘Python’ to a tuple `input_tuple = ('Monty Python', 'British', 1969)`. Since tuples are immutable, one way to do this is to convert the tuple to a list, add the element, and convert it back to a tuple."
    },
    {
      "metadata": {
        "trusted": true
      },
      "cell_type": "code",
      "source": "\ninput_tuple = ('Monty Python', 'British', 1969)\nc=list(input_tuple)\nc.append(\"Python\")\ntuple_2=tuple(c)\nprint(tuple_2)",
      "execution_count": 127,
      "outputs": [
        {
          "output_type": "stream",
          "text": "('Monty Python', 'British', 1969, 'Python')\n",
          "name": "stdout"
        }
      ]
    },
    {
      "metadata": {},
      "cell_type": "markdown",
      "source": "### Tuple Methods\n\n1: Can a tuple consist of a list as an element?   \nAns:Yes.**A tuple can contain mutable objects.**\n"
    },
    {
      "metadata": {
        "trusted": true
      },
      "cell_type": "code",
      "source": "# If an object inside a tuple is mutable, such as a list, you can modify it in-place:\ntup = tuple(['foo', [1, 2], True])\ntup[1].append(3)\ntup",
      "execution_count": 128,
      "outputs": [
        {
          "output_type": "execute_result",
          "execution_count": 128,
          "data": {
            "text/plain": "('foo', [1, 2, 3], True)"
          },
          "metadata": {}
        }
      ]
    },
    {
      "metadata": {
        "trusted": true
      },
      "cell_type": "code",
      "source": "### 2:Suppose t = (1, 2, 4, 3). Which of the following statements will result in an error?\nt = (1, 2, 4, 3)\nprint(t[3])\nprint(t[1:3])\nprint(len(t))\nt[3] = 5\n#Ans Tuples cannot be modified.",
      "execution_count": 129,
      "outputs": [
        {
          "output_type": "stream",
          "text": "3\n(2, 4)\n4\n",
          "name": "stdout"
        },
        {
          "output_type": "error",
          "ename": "TypeError",
          "evalue": "'tuple' object does not support item assignment",
          "traceback": [
            "\u001b[0;31m---------------------------------------------------------------------------\u001b[0m",
            "\u001b[0;31mTypeError\u001b[0m                                 Traceback (most recent call last)",
            "\u001b[0;32m<ipython-input-129-1580232a654d>\u001b[0m in \u001b[0;36m<module>\u001b[0;34m()\u001b[0m\n\u001b[1;32m      4\u001b[0m \u001b[0mprint\u001b[0m\u001b[0;34m(\u001b[0m\u001b[0mt\u001b[0m\u001b[0;34m[\u001b[0m\u001b[0;36m1\u001b[0m\u001b[0;34m:\u001b[0m\u001b[0;36m3\u001b[0m\u001b[0;34m]\u001b[0m\u001b[0;34m)\u001b[0m\u001b[0;34m\u001b[0m\u001b[0m\n\u001b[1;32m      5\u001b[0m \u001b[0mprint\u001b[0m\u001b[0;34m(\u001b[0m\u001b[0mlen\u001b[0m\u001b[0;34m(\u001b[0m\u001b[0mt\u001b[0m\u001b[0;34m)\u001b[0m\u001b[0;34m)\u001b[0m\u001b[0;34m\u001b[0m\u001b[0m\n\u001b[0;32m----> 6\u001b[0;31m \u001b[0mt\u001b[0m\u001b[0;34m[\u001b[0m\u001b[0;36m3\u001b[0m\u001b[0;34m]\u001b[0m \u001b[0;34m=\u001b[0m \u001b[0;36m5\u001b[0m\u001b[0;34m\u001b[0m\u001b[0m\n\u001b[0m\u001b[1;32m      7\u001b[0m \u001b[0;31m#Ans Tuples cannot be modified.\u001b[0m\u001b[0;34m\u001b[0m\u001b[0;34m\u001b[0m\u001b[0m\n",
            "\u001b[0;31mTypeError\u001b[0m: 'tuple' object does not support item assignment"
          ]
        }
      ]
    },
    {
      "metadata": {
        "trusted": true
      },
      "cell_type": "code",
      "source": "### 3:Which of the following is a Python tuple?\nprint(type((1,2,3)))\nprint(type({1,2,3}))\nprint(type([1,2,3]))",
      "execution_count": 130,
      "outputs": [
        {
          "output_type": "stream",
          "text": "<class 'tuple'>\n<class 'set'>\n<class 'list'>\n",
          "name": "stdout"
        }
      ]
    },
    {
      "metadata": {},
      "cell_type": "markdown",
      "source": "## Dictionaries\n\nThe first thing that comes to mind when you hear about dictionaries is the Oxford dictionary, where you can look up meanings of words. So, you can imagine how dictionaries work. **A dictionary is a collection of words along with their meanings or simpler explanations.**\n\nAt a broader level, you could call a dictionary `a mapping of words with their synonyms or meanings`. A more common\nname for it is `_hash map or associative array_`.\n\nDictionaries are more used like a database because here you can index a particular sequence with your user defined string. To define a dictionary, equate a variable to `{ }` or `dict()`\n\nIt is a flexibly sized collection of `key-value` pairs, where `key` and `value` are Python objects. One approach for creating one is to use `curly braces {}` and `colons` to separate keys and values:\n\n    `empty_dict = {}\n    d1 = {'a' : 'some value', 'b' : [1, 2, 3, 4]}\n    d1\n    -->{'a': 'some value', 'b': [1, 2, 3, 4]}`\n"
    },
    {
      "metadata": {
        "trusted": true,
        "scrolled": true
      },
      "cell_type": "markdown",
      "source": "<img src = \"https://github.com/nishantsbi/Medium_articles/blob/master/picures/2.PNG?raw=true\">"
    },
    {
      "metadata": {
        "trusted": true
      },
      "cell_type": "code",
      "source": "empty_dictionary = {}\nprint(type(empty_dictionary))\n\nfirst_dict = {}\nsecond_dict = dict()\nprint(type(first_dict), type(second_dict))",
      "execution_count": 132,
      "outputs": [
        {
          "output_type": "stream",
          "text": "<class 'dict'>\n<class 'dict'> <class 'dict'>\n",
          "name": "stdout"
        }
      ]
    },
    {
      "metadata": {},
      "cell_type": "markdown",
      "source": "<img src = \"https://github.com/nishantsbi/Medium_articles/blob/master/picures/dictmethods.PNG?raw=true\">"
    },
    {
      "metadata": {},
      "cell_type": "markdown",
      "source": "Dictionary works somewhat like a list but with an added capability of assigning it's own index style."
    },
    {
      "metadata": {
        "trusted": true
      },
      "cell_type": "code",
      "source": "first_dict['One'] = 1\nfirst_dict['Twelve'] = 12 \nprint(first_dict)",
      "execution_count": 133,
      "outputs": [
        {
          "output_type": "stream",
          "text": "{'One': 1, 'Twelve': 12}\n",
          "name": "stdout"
        }
      ]
    },
    {
      "metadata": {
        "trusted": true
      },
      "cell_type": "code",
      "source": "'One' in first_dict",
      "execution_count": 134,
      "outputs": [
        {
          "output_type": "execute_result",
          "execution_count": 134,
          "data": {
            "text/plain": "True"
          },
          "metadata": {}
        }
      ]
    },
    {
      "metadata": {
        "trusted": true
      },
      "cell_type": "code",
      "source": "del first_dict['One']\nprint(first_dict)",
      "execution_count": 135,
      "outputs": [
        {
          "output_type": "stream",
          "text": "{'Twelve': 12}\n",
          "name": "stdout"
        }
      ]
    },
    {
      "metadata": {},
      "cell_type": "markdown",
      "source": "<img src = \"https://github.com/nishantsbi/Medium_articles/blob/master/picures/dictmethods2.PNG?raw=true\">"
    },
    {
      "metadata": {
        "trusted": true
      },
      "cell_type": "code",
      "source": "bio_data = {'Name': 'Bob Marley', 'Age':35, 'Height':\"5.6 ft\", 'Hobby': 'Music'}\nprint(bio_data)",
      "execution_count": 136,
      "outputs": [
        {
          "output_type": "stream",
          "text": "{'Name': 'Bob Marley', 'Age': 35, 'Height': '5.6 ft', 'Hobby': 'Music'}\n",
          "name": "stdout"
        }
      ]
    },
    {
      "metadata": {
        "trusted": true
      },
      "cell_type": "code",
      "source": "credentials = { 'UserA' : 'wkliopnc' , 'UserB': 98760 , 'UserC' :98760 } ",
      "execution_count": 137,
      "outputs": []
    },
    {
      "metadata": {
        "trusted": true
      },
      "cell_type": "code",
      "source": "hobby = bio_data['Hobby']\nprint(hobby)",
      "execution_count": 138,
      "outputs": [
        {
          "output_type": "stream",
          "text": "Music\n",
          "name": "stdout"
        }
      ]
    },
    {
      "metadata": {
        "trusted": true
      },
      "cell_type": "code",
      "source": "age = bio_data['Age']\nprint(age)",
      "execution_count": 139,
      "outputs": [
        {
          "output_type": "stream",
          "text": "35\n",
          "name": "stdout"
        }
      ]
    },
    {
      "metadata": {
        "trusted": true
      },
      "cell_type": "code",
      "source": "age = bio_data.get('Age')\nprint(age)",
      "execution_count": 140,
      "outputs": [
        {
          "output_type": "stream",
          "text": "35\n",
          "name": "stdout"
        }
      ]
    },
    {
      "metadata": {
        "trusted": true
      },
      "cell_type": "code",
      "source": "profession  =  bio_data.get('Profession','NA')\nprint(profession)",
      "execution_count": 141,
      "outputs": [
        {
          "output_type": "stream",
          "text": "NA\n",
          "name": "stdout"
        }
      ]
    },
    {
      "metadata": {
        "trusted": true
      },
      "cell_type": "code",
      "source": "## More exercise\n\ncapitals = {'Maharashtra':'Mumbai','Tamil Nadu':'Chennai'}\n\n#get the capital of Maharashtra\nprint(capitals['Maharashtra'])\n\n#create a new key Rajasthan whose capital(value) is Jaipur\ncapitals['Rajasthan']='Jaipur'\nprint(capitals)\n\n#create another key-value pair\ncapitals['Punjab']='Chandigarh'\nprint(len(capitals))",
      "execution_count": 142,
      "outputs": [
        {
          "output_type": "stream",
          "text": "Mumbai\n{'Maharashtra': 'Mumbai', 'Tamil Nadu': 'Chennai', 'Rajasthan': 'Jaipur'}\n4\n",
          "name": "stdout"
        }
      ]
    },
    {
      "metadata": {},
      "cell_type": "markdown",
      "source": "Dictionary keys are unique and hence we cannot have two similar keys. Values can be the same though."
    },
    {
      "metadata": {
        "trusted": true
      },
      "cell_type": "code",
      "source": "capitals['Haryana'] = 'Chandigarh'\nprint(capitals)",
      "execution_count": 143,
      "outputs": [
        {
          "output_type": "stream",
          "text": "{'Maharashtra': 'Mumbai', 'Tamil Nadu': 'Chennai', 'Rajasthan': 'Jaipur', 'Punjab': 'Chandigarh', 'Haryana': 'Chandigarh'}\n",
          "name": "stdout"
        }
      ]
    },
    {
      "metadata": {},
      "cell_type": "markdown",
      "source": "## Dict_Error\n\nFrom a Dictionary `input_dict={'Name': 'Monty', 'Profession': 'Singer' }`, get the value of a key ‘Label’ which is not a part of the dictionary, in such a way that Python doesn't hit an error. If the key does not exist in the dictionary, Python should return 'NA'.\n"
    },
    {
      "metadata": {
        "trusted": true
      },
      "cell_type": "code",
      "source": "input_dict={'Name': 'Monty', 'Profession': 'Singer' }\nanswer=input_dict.get('Label','NA')\nprint(answer)",
      "execution_count": 144,
      "outputs": [
        {
          "output_type": "stream",
          "text": "NA\n",
          "name": "stdout"
        }
      ]
    },
    {
      "metadata": {
        "trusted": true
      },
      "cell_type": "code",
      "source": "bio_data['Age'] = 36\nprint(bio_data)",
      "execution_count": 145,
      "outputs": [
        {
          "output_type": "stream",
          "text": "{'Name': 'Bob Marley', 'Age': 36, 'Height': '5.6 ft', 'Hobby': 'Music'}\n",
          "name": "stdout"
        }
      ]
    },
    {
      "metadata": {
        "trusted": true
      },
      "cell_type": "code",
      "source": "#add a key, val\nbio_data['Profession'] = 'Singer'\nprint(bio_data)",
      "execution_count": 146,
      "outputs": [
        {
          "output_type": "stream",
          "text": "{'Name': 'Bob Marley', 'Age': 36, 'Height': '5.6 ft', 'Hobby': 'Music', 'Profession': 'Singer'}\n",
          "name": "stdout"
        }
      ]
    },
    {
      "metadata": {
        "trusted": true
      },
      "cell_type": "code",
      "source": "print('Profession' in bio_data)",
      "execution_count": 147,
      "outputs": [
        {
          "output_type": "stream",
          "text": "True\n",
          "name": "stdout"
        }
      ]
    },
    {
      "metadata": {},
      "cell_type": "markdown",
      "source": "The `keys` and `values` method give you iterators of the dict’s keys and values, respectively.  \n\n**keys( )** function returns a list with all the keys in the dictionary./"
    },
    {
      "metadata": {
        "trusted": true
      },
      "cell_type": "code",
      "source": "print(bio_data.keys())\n#get list of keys\nprint(list(bio_data.keys()))\nprint(type(bio_data.keys()))",
      "execution_count": 148,
      "outputs": [
        {
          "output_type": "stream",
          "text": "dict_keys(['Name', 'Age', 'Height', 'Hobby', 'Profession'])\n['Name', 'Age', 'Height', 'Hobby', 'Profession']\n<class 'dict_keys'>\n",
          "name": "stdout"
        }
      ]
    },
    {
      "metadata": {},
      "cell_type": "markdown",
      "source": "**values( )** function returns a list with all the assigned values in the dictionary./"
    },
    {
      "metadata": {
        "trusted": true
      },
      "cell_type": "code",
      "source": "print(bio_data.values())\n#get list of values\nprint(list(bio_data.values()))\nprint(type(bio_data.values()))\n",
      "execution_count": 149,
      "outputs": [
        {
          "output_type": "stream",
          "text": "dict_values(['Bob Marley', 36, '5.6 ft', 'Music', 'Singer'])\n['Bob Marley', 36, '5.6 ft', 'Music', 'Singer']\n<class 'dict_values'>\n",
          "name": "stdout"
        }
      ]
    },
    {
      "metadata": {
        "trusted": true
      },
      "cell_type": "code",
      "source": "# to convert to a list use list()\n \nbio_data_list = list(bio_data.values())\nprint(bio_data_list)\nprint(type(bio_data_list))",
      "execution_count": 150,
      "outputs": [
        {
          "output_type": "stream",
          "text": "['Bob Marley', 36, '5.6 ft', 'Music', 'Singer']\n<class 'list'>\n",
          "name": "stdout"
        }
      ]
    },
    {
      "metadata": {},
      "cell_type": "markdown",
      "source": "**items( )** is returns a list containing both the list but each element in the dictionary is inside a tuple."
    },
    {
      "metadata": {
        "trusted": true
      },
      "cell_type": "code",
      "source": "print(bio_data.items())\n\n#convert to list of tuples\nprint(list(bio_data.items()))",
      "execution_count": 151,
      "outputs": [
        {
          "output_type": "stream",
          "text": "dict_items([('Name', 'Bob Marley'), ('Age', 36), ('Height', '5.6 ft'), ('Hobby', 'Music'), ('Profession', 'Singer')])\n[('Name', 'Bob Marley'), ('Age', 36), ('Height', '5.6 ft'), ('Hobby', 'Music'), ('Profession', 'Singer')]\n",
          "name": "stdout"
        }
      ]
    },
    {
      "metadata": {
        "trusted": true
      },
      "cell_type": "code",
      "source": "new_dictionary = dict(Country='Jamaica', Songs=['One Love','Misty Morning'])",
      "execution_count": 152,
      "outputs": []
    },
    {
      "metadata": {
        "trusted": true
      },
      "cell_type": "code",
      "source": "bio_data.update(new_dictionary)\nprint(bio_data)",
      "execution_count": 153,
      "outputs": [
        {
          "output_type": "stream",
          "text": "{'Name': 'Bob Marley', 'Age': 36, 'Height': '5.6 ft', 'Hobby': 'Music', 'Profession': 'Singer', 'Country': 'Jamaica', 'Songs': ['One Love', 'Misty Morning']}\n",
          "name": "stdout"
        }
      ]
    },
    {
      "metadata": {
        "trusted": true
      },
      "cell_type": "code",
      "source": "del bio_data['Songs']\nprint(bio_data)",
      "execution_count": 154,
      "outputs": [
        {
          "output_type": "stream",
          "text": "{'Name': 'Bob Marley', 'Age': 36, 'Height': '5.6 ft', 'Hobby': 'Music', 'Profession': 'Singer', 'Country': 'Jamaica'}\n",
          "name": "stdout"
        }
      ]
    },
    {
      "metadata": {
        "trusted": true
      },
      "cell_type": "code",
      "source": "students_data = { 1:['Shivam Bansal', 24] , 2:['Udit Bansal',25], 3:['Sonam Gupta', 26], 4:['Saif Ansari',24], 5:['Huzefa Calcuttawala',27]}\n\nprint(students_data)\n",
      "execution_count": 155,
      "outputs": [
        {
          "output_type": "stream",
          "text": "{1: ['Shivam Bansal', 24], 2: ['Udit Bansal', 25], 3: ['Sonam Gupta', 26], 4: ['Saif Ansari', 24], 5: ['Huzefa Calcuttawala', 27]}\n",
          "name": "stdout"
        }
      ]
    },
    {
      "metadata": {
        "trusted": true
      },
      "cell_type": "code",
      "source": "print(len(students_data))\n",
      "execution_count": 156,
      "outputs": [
        {
          "output_type": "stream",
          "text": "5\n",
          "name": "stdout"
        }
      ]
    },
    {
      "metadata": {
        "trusted": true
      },
      "cell_type": "code",
      "source": "#see all the details of students. \nprint(list(students_data.values()))\n",
      "execution_count": 157,
      "outputs": [
        {
          "output_type": "stream",
          "text": "[['Shivam Bansal', 24], ['Udit Bansal', 25], ['Sonam Gupta', 26], ['Saif Ansari', 24], ['Huzefa Calcuttawala', 27]]\n",
          "name": "stdout"
        }
      ]
    },
    {
      "metadata": {
        "trusted": true
      },
      "cell_type": "code",
      "source": "students_data[6] = ['Manasi Sharma', 22]\nprint(students_data)\n",
      "execution_count": 158,
      "outputs": [
        {
          "output_type": "stream",
          "text": "{1: ['Shivam Bansal', 24], 2: ['Udit Bansal', 25], 3: ['Sonam Gupta', 26], 4: ['Saif Ansari', 24], 5: ['Huzefa Calcuttawala', 27], 6: ['Manasi Sharma', 22]}\n",
          "name": "stdout"
        }
      ]
    },
    {
      "metadata": {
        "trusted": true
      },
      "cell_type": "code",
      "source": "del students_data[2]\nprint(students_data)",
      "execution_count": 159,
      "outputs": [
        {
          "output_type": "stream",
          "text": "{1: ['Shivam Bansal', 24], 3: ['Sonam Gupta', 26], 4: ['Saif Ansari', 24], 5: ['Huzefa Calcuttawala', 27], 6: ['Manasi Sharma', 22]}\n",
          "name": "stdout"
        }
      ]
    },
    {
      "metadata": {
        "trusted": true
      },
      "cell_type": "code",
      "source": "print(list(students_data.keys()))\n",
      "execution_count": 160,
      "outputs": [
        {
          "output_type": "stream",
          "text": "[1, 3, 4, 5, 6]\n",
          "name": "stdout"
        }
      ]
    },
    {
      "metadata": {},
      "cell_type": "markdown",
      "source": "`update` method to merge to Dictionararies\n\nThe update method changes dicts in-place, so any existing keys in the data passed to update will have their old values discarded."
    },
    {
      "metadata": {
        "trusted": true
      },
      "cell_type": "code",
      "source": "d1 = {'a' : 'some value', 'b' : [1, 2, 3, 4]}\n\nd1.update({'b' : 'foo', 'c' : 12})\n\nd1",
      "execution_count": 161,
      "outputs": [
        {
          "output_type": "execute_result",
          "execution_count": 161,
          "data": {
            "text/plain": "{'a': 'some value', 'b': 'foo', 'c': 12}"
          },
          "metadata": {}
        }
      ]
    },
    {
      "metadata": {
        "trusted": true
      },
      "cell_type": "code",
      "source": "## More exercise\n\n#take a look at the block of code to understand\nphoneext={'Sachin':1410,'Azhar':1137}\nprint(phoneext)\n\nprint(phoneext.keys())\n\nprint(list(phoneext.keys()))\nprint(phoneext.values())\nprint(list(phoneext.values()))\n\nprint(phoneext.items())\n\nprint(list(phoneext.items()))\n\nprint(phoneext.get(\"Dhoni\"))\n\nprint(phoneext.get(\"Dhoni\",\"Not a part of team\"))\n",
      "execution_count": 162,
      "outputs": [
        {
          "output_type": "stream",
          "text": "{'Sachin': 1410, 'Azhar': 1137}\ndict_keys(['Sachin', 'Azhar'])\n['Sachin', 'Azhar']\ndict_values([1410, 1137])\n[1410, 1137]\ndict_items([('Sachin', 1410), ('Azhar', 1137)])\n[('Sachin', 1410), ('Azhar', 1137)]\nNone\nNot a part of team\n",
          "name": "stdout"
        }
      ]
    },
    {
      "metadata": {},
      "cell_type": "markdown",
      "source": "### Getting a Value from a Dictionary.\n\nExtract the company headed by Tim Cook from the dictionary `{'Jack Dorsey': 'Twitter', 'Tim Cook': 'Apple','Jeff Bezos': 'Amazon','Mukesh Ambani': 'RJIO'}`"
    },
    {
      "metadata": {
        "trusted": true
      },
      "cell_type": "code",
      "source": "input_dict={'Jack Dorsey': 'Twitter', 'Tim Cook': 'Apple','Jeff Bezos': 'Amazon','Mukesh Ambani': 'RJIO'}\nname = input_dict['Tim Cook']\nprint(name)",
      "execution_count": 163,
      "outputs": [
        {
          "output_type": "stream",
          "text": "Apple\n",
          "name": "stdout"
        }
      ]
    },
    {
      "metadata": {},
      "cell_type": "markdown",
      "source": "### List of Values in a Dictionary.\n\nCreate a SORTED list of all values from the dictionary `input_dict = {'Jack Dorsey' : 'Twitter' , 'Tim Cook' : 'Apple','Jeff Bezos' : 'Amazon' ,'Mukesh Ambani' : 'RJIO'}`"
    },
    {
      "metadata": {
        "trusted": true
      },
      "cell_type": "code",
      "source": "input_dict = {'Jack Dorsey' : 'Twitter' , 'Tim Cook' : 'Apple','Jeff Bezos' : 'Amazon' ,'Mukesh Ambani' : 'RJIO'}\nvalue_list = input_dict.values()\nprint(sorted(value_list))",
      "execution_count": 164,
      "outputs": [
        {
          "output_type": "stream",
          "text": "['Amazon', 'Apple', 'RJIO', 'Twitter']\n",
          "name": "stdout"
        }
      ]
    },
    {
      "metadata": {
        "trusted": true
      },
      "cell_type": "code",
      "source": "## Qs: Initialising a Dictionary\n\n## Which of the following statements create a dictionary? Select all that apply (More than one option may be correct).\\\\\n\nd = {}\nprint(d)\n#It will create an empty dictionary.\n\nd = {'a':1, 'b':2}\nprint(d)\n#This a one of the method to create a dictionary.\n\nd = dict(a=1, b=2) \n#dict function can be used to create a dictionary.\nprint(d)\n\n#d = ('a':1, 'b':2)\n#print(d)\n# error",
      "execution_count": 165,
      "outputs": [
        {
          "output_type": "stream",
          "text": "{}\n{'a': 1, 'b': 2}\n{'a': 1, 'b': 2}\n",
          "name": "stdout"
        }
      ]
    },
    {
      "metadata": {
        "trusted": true
      },
      "cell_type": "code",
      "source": "### Deleting a Key\n\n#Suppose dict_1 = {\"Python'':40, \"R'':45}. What command should be used to delete the entry \"R\"?\n\ndict_1 = {\"Python\":40, \"R\":45}\n\n#dict_1.delete('R':45)\n# incorrect\n\ndel dict_1['R']\nprint(dict_1)\n#Yes, del is used to delete a dictionary key.\n\n#dict_1.delete('R')\n# incorrect\n#del dict_1('R':40)\n# incorrect",
      "execution_count": 166,
      "outputs": [
        {
          "output_type": "stream",
          "text": "{'Python': 40}\n",
          "name": "stdout"
        }
      ]
    },
    {
      "metadata": {
        "trusted": true
      },
      "cell_type": "code",
      "source": "d = {'Python':40, 'R':45}\nprint(list(d.keys()))\n#.keys() returns the keys only, and list() converts these keys into the list format.",
      "execution_count": 168,
      "outputs": [
        {
          "output_type": "stream",
          "text": "['Python', 'R']\n",
          "name": "stdout"
        }
      ]
    },
    {
      "metadata": {},
      "cell_type": "markdown",
      "source": "### Default values\n\n\nIt’s very common to have logic like:\n\n    `if key in some_dict:\n    value = some_dict[key]\n    else:\n    value = default_value`\n\nThus, the dict methods get and pop can take a default value to be returned, so that the above if-else block can be written simply as:\n\n`value = some_dict.get(key, default_value)`\n\n`get` by default will return None if the key is not present, while `pop` will raise an exception.With setting values, a common case is for the values in a dict to be other collections,like lists. For example, you could imagine categorizing a list of words by their first letters as a dict of lists:"
    },
    {
      "metadata": {
        "trusted": true
      },
      "cell_type": "code",
      "source": "words = ['apple', 'bat', 'bar', 'atom', 'book']\nby_letter = {}\n\nfor word in words:\n    letter = word[0]\n    if letter not in by_letter:\n        by_letter[letter] = [word]\n    else:\n        by_letter[letter].append(word)\n    \nby_letter",
      "execution_count": 169,
      "outputs": [
        {
          "output_type": "execute_result",
          "execution_count": 169,
          "data": {
            "text/plain": "{'a': ['apple', 'atom'], 'b': ['bat', 'bar', 'book']}"
          },
          "metadata": {}
        }
      ]
    },
    {
      "metadata": {
        "trusted": true
      },
      "cell_type": "code",
      "source": "# The setdefault dict method is for precisely this purpose. The preceding for loop can be rewritten as:\n\nby_letter1 = {}\n\nfor word in words:\n    letter = word[0]\n    by_letter1.setdefault(letter, []).append(word)\n    \nby_letter1",
      "execution_count": 170,
      "outputs": [
        {
          "output_type": "execute_result",
          "execution_count": 170,
          "data": {
            "text/plain": "{'a': ['apple', 'atom'], 'b': ['bat', 'bar', 'book']}"
          },
          "metadata": {}
        }
      ]
    },
    {
      "metadata": {
        "trusted": true
      },
      "cell_type": "code",
      "source": "# The built-in collections module has a useful class, defaultdict, which makes this even easier. To create one, you pass a type or function for generating the default value for each slot in the dict:\n\nfrom collections import defaultdict\n        \nby_letter2 = defaultdict(list)\nfor word in words:\n    by_letter2[word[0]].append(word)\n    \nby_letter2",
      "execution_count": 171,
      "outputs": [
        {
          "output_type": "execute_result",
          "execution_count": 171,
          "data": {
            "text/plain": "defaultdict(list, {'a': ['apple', 'atom'], 'b': ['bat', 'bar', 'book']})"
          },
          "metadata": {}
        }
      ]
    },
    {
      "metadata": {},
      "cell_type": "markdown",
      "source": "## Sets\n\n** unordered collection of unique elements**\n\nThe last type of data structure we will look at is 'sets'. Sets are a good way to get the unique elements out of a collection or to find common elements in various collections. Using sets is quick and can help solve tasks requiring deduplication.\n\nSets are mainly used to eliminate repeated numbers in a sequence/list. It is also used to perform some standard set operations.\n\nA set can be created in two ways: via the `set` function or via a set literal with curly braces{}\nSets are declared as `set()` which will initialize a empty set. Also set([sequence]) can be executed to declare a set with elements"
    },
    {
      "metadata": {
        "trusted": true
      },
      "cell_type": "code",
      "source": "first_set = set()\nprint(type(first_set))",
      "execution_count": 172,
      "outputs": [
        {
          "output_type": "stream",
          "text": "<class 'set'>\n",
          "name": "stdout"
        }
      ]
    },
    {
      "metadata": {
        "trusted": true
      },
      "cell_type": "code",
      "source": "second_set = set([1,2,2,3,3,4])\nprint(second_set)",
      "execution_count": 173,
      "outputs": [
        {
          "output_type": "stream",
          "text": "{1, 2, 3, 4}\n",
          "name": "stdout"
        }
      ]
    },
    {
      "metadata": {},
      "cell_type": "markdown",
      "source": "<img src = \"https://github.com/nishantsbi/Medium_articles/blob/master/picures/setmethods.PNG?raw=true\">"
    },
    {
      "metadata": {
        "trusted": true
      },
      "cell_type": "markdown",
      "source": "<img src = \"https://github.com/nishantsbi/Medium_articles/blob/master/picures/13.PNG?raw=true\">"
    },
    {
      "metadata": {
        "trusted": true
      },
      "cell_type": "code",
      "source": "students_list = ['A','A','B','C','C','E','N']\n",
      "execution_count": 7,
      "outputs": []
    },
    {
      "metadata": {
        "trusted": true
      },
      "cell_type": "code",
      "source": "students_set = set(students_list)\nprint(students_set)\n",
      "execution_count": 8,
      "outputs": [
        {
          "output_type": "stream",
          "text": "{'B', 'C', 'N', 'A', 'E'}\n",
          "name": "stdout"
        }
      ]
    },
    {
      "metadata": {
        "trusted": true
      },
      "cell_type": "code",
      "source": "print(type(students_set))\n",
      "execution_count": 9,
      "outputs": [
        {
          "output_type": "stream",
          "text": "<class 'set'>\n",
          "name": "stdout"
        }
      ]
    },
    {
      "metadata": {
        "trusted": true
      },
      "cell_type": "code",
      "source": "students_list_2 = ['A','N','F','N','G','A']\n",
      "execution_count": 10,
      "outputs": []
    },
    {
      "metadata": {
        "trusted": true
      },
      "cell_type": "code",
      "source": "students_set_2 = set(students_list_2)\n",
      "execution_count": 11,
      "outputs": []
    },
    {
      "metadata": {},
      "cell_type": "markdown",
      "source": "<img src = \"https://github.com/nishantsbi/Medium_articles/blob/master/picures/28.PNG?raw=true\">"
    },
    {
      "metadata": {
        "trusted": true
      },
      "cell_type": "code",
      "source": "print(students_set.intersection(students_set_2))",
      "execution_count": 12,
      "outputs": [
        {
          "output_type": "stream",
          "text": "{'A', 'N'}\n",
          "name": "stdout"
        }
      ]
    },
    {
      "metadata": {},
      "cell_type": "markdown",
      "source": "<img src = \"https://github.com/nishantsbi/Medium_articles/blob/master/picures/29.PNG?raw=true\">"
    },
    {
      "metadata": {
        "trusted": true
      },
      "cell_type": "code",
      "source": "print(students_set.union(students_set_2))",
      "execution_count": 13,
      "outputs": [
        {
          "output_type": "stream",
          "text": "{'E', 'A', 'N', 'B', 'G', 'C', 'F'}\n",
          "name": "stdout"
        }
      ]
    },
    {
      "metadata": {},
      "cell_type": "markdown",
      "source": "<img src = \"https://github.com/nishantsbi/Medium_articles/blob/master/picures/30.PNG?raw=true\">"
    },
    {
      "metadata": {
        "trusted": true
      },
      "cell_type": "code",
      "source": "print(students_set.difference(students_set_2))",
      "execution_count": 182,
      "outputs": [
        {
          "output_type": "stream",
          "text": "{'B', 'C', 'E'}\n",
          "name": "stdout"
        }
      ]
    },
    {
      "metadata": {},
      "cell_type": "markdown",
      "source": "**symmetric_difference( )** function ouputs a function which contains elements that are in one of the sets."
    },
    {
      "metadata": {
        "trusted": true
      },
      "cell_type": "markdown",
      "source": "<img src = \"https://github.com/nishantsbi/Medium_articles/blob/master/picures/4.PNG?raw=true\">"
    },
    {
      "metadata": {
        "trusted": true
      },
      "cell_type": "code",
      "source": "students_set.symmetric_difference(students_set_2)",
      "execution_count": 184,
      "outputs": [
        {
          "output_type": "execute_result",
          "execution_count": 184,
          "data": {
            "text/plain": "{'B', 'C', 'E', 'F', 'G'}"
          },
          "metadata": {}
        }
      ]
    },
    {
      "metadata": {
        "trusted": true
      },
      "cell_type": "code",
      "source": "## Set_diff\n\n#Find the difference, using difference and symmetric_difference, between two given lists - list1 and list2.\n\n#First, convert the lists into sets and store them as set_1 and set_2. \n#Then store the difference and symmetric difference in answer_1 and answer_2 respectively. \n#Print both the answers as sorted lists, i.e. convert the final sets to lists, sort it and then return it.\n\nlist_1 = [1,2,3,4,5,6]\nlist_2 = [2,3,4,5,6,7,8,9]\n\nset_1 = set(list_1)\nset_2 = set(list_2)\nanswer_1 = sorted(list(set_1.difference(set_2)))\nanswer_2 = sorted(list(set_1.symmetric_difference(set_2)))\n\nprint(answer_1)\nprint(answer_2)\n",
      "execution_count": 185,
      "outputs": [
        {
          "output_type": "stream",
          "text": "[1]\n[1, 7, 8, 9]\n",
          "name": "stdout"
        }
      ]
    },
    {
      "metadata": {
        "trusted": true
      },
      "cell_type": "code",
      "source": "## Sets\n\n## Qs:What gets printed with the following set of instructions?\nnums = set([1,1,2,3,3,3,4])\nprint(len(nums))\n## Set() removes duplicates and return the unique values.",
      "execution_count": 186,
      "outputs": [
        {
          "output_type": "stream",
          "text": "4\n",
          "name": "stdout"
        }
      ]
    },
    {
      "metadata": {
        "trusted": true
      },
      "cell_type": "markdown",
      "source": "## List to set and vice-versa"
    },
    {
      "metadata": {
        "trusted": true
      },
      "cell_type": "code",
      "source": "list_with_duplicates = ['A','B','A','C','D','C','C','B']\nprint(set(list_with_duplicates))",
      "execution_count": 187,
      "outputs": [
        {
          "output_type": "stream",
          "text": "{'A', 'B', 'C', 'D'}\n",
          "name": "stdout"
        }
      ]
    },
    {
      "metadata": {
        "trusted": true
      },
      "cell_type": "code",
      "source": "#Convert it to a list by wrapping it back to a list\nprint(list(set(list_with_duplicates)))",
      "execution_count": 188,
      "outputs": [
        {
          "output_type": "stream",
          "text": "['A', 'B', 'C', 'D']\n",
          "name": "stdout"
        }
      ]
    },
    {
      "metadata": {
        "trusted": true
      },
      "cell_type": "markdown",
      "source": "<img src = \"https://github.com/nishantsbi/Medium_articles/blob/master/picures/14.PNG?raw=true\">"
    },
    {
      "metadata": {},
      "cell_type": "markdown",
      "source": "<h2 align='center' style=\"margin-top: 0px\">Control Structures and Functions</h2>"
    },
    {
      "metadata": {
        "trusted": true
      },
      "cell_type": "markdown",
      "source": "Control structures are the essence of programming since they help computers do what they do best — **automate repetitive tasks intelligently**. The most common control structures are `if-else statements, for and while loops, and (specific to Python) list and dictionary comprehensions`. This session will cover all of these.\n\n \n\nAnother crucial thing you will learn in is to write your own functions. Almost every powerful program — whether a web app or a machine learning algorithm — is basically a set of functions written to perform specific tasks.\n\n - Control structures\n    - If-elif-else\n    - For loop\n    - While loop\n    - List comprehensions\n    - Dictionary comprehensions\n - Functions\n - Map\n - Filter\n - Reduce"
    },
    {
      "metadata": {},
      "cell_type": "markdown",
      "source": "<h2 align='center' style=\"margin-top: 0px\"> If-Elif-Else</h2>\n\nThe most basic control structure is a conditional statement. When you want different operations to be performed when the values of the variable vary, you need conditional statements. "
    },
    {
      "metadata": {},
      "cell_type": "markdown",
      "source": "The syntax of an if statement is pretty simple:\n\n<img src = \"https://github.com/nishantsbi/Medium_articles/blob/master/picures/18.PNG?raw=true\">\n"
    },
    {
      "metadata": {},
      "cell_type": "markdown",
      "source": "The statement needs to be indented with a `tab`. In Sublime Text, at the bottom right, you can adjust the tab size to be equal to any number of white spaces. A good practice is to make use of four white spaces as the tab size for indentations. Anything outside an indentation is not a part of the if statement. So, for the following statement —\n\n<img src = \"https://github.com/nishantsbi/Medium_articles/blob/master/picures/19.PNG?raw=true\">\n"
    },
    {
      "metadata": {},
      "cell_type": "markdown",
      "source": "The print statement is not a part of if statement as it is not indented on the if statement. Now, this is how an if-else statement will look:\n\n<img src = \"https://github.com/nishantsbi/Medium_articles/blob/master/picures/20.PNG?raw=true\">\n"
    },
    {
      "metadata": {},
      "cell_type": "markdown",
      "source": "Similarly, you can have the elif statement (In R, this is 'else-if'):\n\n<img src = \"https://github.com/nishantsbi/Medium_articles/blob/master/picures/21.PNG?raw=true\">\n"
    },
    {
      "metadata": {
        "trusted": true
      },
      "cell_type": "code",
      "source": "score = int(input(\"Enter your test score : \"))\npassing = 40\ndistinction = 90\n",
      "execution_count": 334,
      "outputs": [
        {
          "output_type": "stream",
          "name": "stdout",
          "text": "Enter your test score : 60\n"
        }
      ]
    },
    {
      "metadata": {
        "trusted": true
      },
      "cell_type": "code",
      "source": "if score >= distinction:\n    print(\"You're at the top! You’ve earned a distinction!\")\n\nif score >= passing and score < distinction:\n    print(\"You have passed!\")\n\nif score < passing:\n    print(\"Sorry! You have failed\")\n",
      "execution_count": 335,
      "outputs": [
        {
          "output_type": "stream",
          "text": "You have passed!\n",
          "name": "stdout"
        }
      ]
    },
    {
      "metadata": {
        "trusted": true
      },
      "cell_type": "code",
      "source": "if score==100:\n    print(\"Perfect\")\nelif  90<=score<100:\n    print(\"Distinction\")\nelif 65<=score<90:\n    print(\"First Class\")\nelif 40<=score<65:\n    print(\"Second Class\")\nelse:\n    print(\"Failed\")\n",
      "execution_count": 336,
      "outputs": [
        {
          "output_type": "stream",
          "text": "Second Class\n",
          "name": "stdout"
        }
      ]
    },
    {
      "metadata": {
        "trusted": true
      },
      "cell_type": "code",
      "source": "statement = \"The coffee is bad\"\nif 'bad' in statement:\n    print(\"Bad review!\")\n\nstatement2 = \"This phone works great\"\nif 'bad' in statement2:\n    print(\"This is not a bad review\")\n",
      "execution_count": 337,
      "outputs": [
        {
          "output_type": "stream",
          "text": "Bad review!\n",
          "name": "stdout"
        }
      ]
    },
    {
      "metadata": {},
      "cell_type": "markdown",
      "source": "### Nested If-Elif-Else loop"
    },
    {
      "metadata": {
        "trusted": true
      },
      "cell_type": "code",
      "source": "num = int(input(\"Enter a number: \"))\n#enter 24\nif num%2==0:\n    print(\"Even\")\n    if num%4==0:\n        print(\"divisible by 4\")\n    else:\n        print(\"Not divisible by 4\")\nelse:\n    print(\"Odd\")\n    if num%3==0:\n        print(\"Divisible by 3\")\n    else:\n        print(\"Not divisible by 3\")\n",
      "execution_count": 196,
      "outputs": [
        {
          "output_type": "stream",
          "name": "stdout",
          "text": "Enter a number: 10\nEven\nNot divisible by 4\n"
        }
      ]
    },
    {
      "metadata": {
        "trusted": true
      },
      "cell_type": "code",
      "source": "if None:\n    print(\"Is True\")\nelse:\n    print(\"Is False\")",
      "execution_count": 197,
      "outputs": [
        {
          "output_type": "stream",
          "text": "Is False\n",
          "name": "stdout"
        }
      ]
    },
    {
      "metadata": {},
      "cell_type": "markdown",
      "source": "**If-Else**\n\nQs: Write a code to check if the string in input_str starts with a vowel or not. Print capital YES  or NO.\n\nFor example, if input_str = 'analytics' then, your output should print 'YES'."
    },
    {
      "metadata": {
        "trusted": true
      },
      "cell_type": "code",
      "source": "input_str = 'alpha'\nvowels=['a','e','i','o','u']\n\nif input_str[0] in vowels:\n    print('Yes')\nelse:\n    print('no')",
      "execution_count": 198,
      "outputs": [
        {
          "output_type": "stream",
          "text": "Yes\n",
          "name": "stdout"
        }
      ]
    },
    {
      "metadata": {
        "trusted": true
      },
      "cell_type": "code",
      "source": "## Aliter\ninput_str = 'alpha'\n\nif input_str[0] == 'a':\n    print('YES')\nelif input_str[0] == 'e':\n    print('YES')\nelif input_str[0] == 'i':\n    print('YES')\nelif input_str[0] == 'o':\n    print('YES')\nelif input_str[0] == 'u':\n    print('YES')\nelse:\n    print('NO')",
      "execution_count": 199,
      "outputs": [
        {
          "output_type": "stream",
          "text": "YES\n",
          "name": "stdout"
        }
      ]
    },
    {
      "metadata": {
        "trusted": true
      },
      "cell_type": "code",
      "source": "## Aliter\ninput_str = 'alpha'\nif input_str[0] in ['a','e','i','o','u']:\n    print('YES')\nelse:\n    print('NO')",
      "execution_count": 200,
      "outputs": [
        {
          "output_type": "stream",
          "text": "YES\n",
          "name": "stdout"
        }
      ]
    },
    {
      "metadata": {
        "trusted": true
      },
      "cell_type": "code",
      "source": "## If Statements\n\n# Given the code below, the output obtained in several runs is 'C' 'A' 'D' 'B'.\nscore = int(input(\"Enter your test score : \"))\n\nif score >= 90:\n   print('A')\nelif score >=80:\n   print('B')\nelif score >= 70:\n   print('C')\nelif score >= 60:\n   print('D')\nelse:\n   print('F')\n\n# Qs:Which of the following sequences of inputs would give this output?\n# Ans: 70, 91, 67, 88\n# For 'C' obtained marks should be greater than or equal to 70. For 'A' obtained marks should be greater than or equal to 90.\n#For 'D' obtained marks should be greater than or equal to 60. For 'B' obtained marks should be greater than or equal to 80.",
      "execution_count": 201,
      "outputs": [
        {
          "output_type": "stream",
          "name": "stdout",
          "text": "Enter your test score : 52\nF\n"
        }
      ]
    },
    {
      "metadata": {
        "trusted": true
      },
      "cell_type": "code",
      "source": "## If Statements (Boolean)\n\n# Qs:What will the following segment of code print? Try doing this verbally.\n\nif (10 < 0) and (0 < -10):\n    print(\"A\")\nelif (10 > 0) or False:\n    print(\"B\")\nelse:\n    print(\"C\")\n    \n# Ans: B  (10 > 0 returns True. True or False is True. Hence, 'B' gets printed.)",
      "execution_count": 202,
      "outputs": [
        {
          "output_type": "stream",
          "text": "B\n",
          "name": "stdout"
        }
      ]
    },
    {
      "metadata": {
        "trusted": true
      },
      "cell_type": "code",
      "source": "## If-Else (Boolean 2)\n\n# Qs:What will the following segment of code print? Try solving it verbally.\n\nif True or True:\n    if False and True or False:\n        print('A')\n    elif False and False or True and True:\n        print('B')\n    else:\n        print('C')\nelse:\n    print('D')\n    \n##Ans:B  (T or T will be a T. The code will return the value which satisfies this statements. \n#A will be returned for an F since (F and T) = F, (F or F) = F B will be returned for a T since (F and F) =F,\n#(T and T) =T, (F or T) = T)\n",
      "execution_count": 203,
      "outputs": [
        {
          "output_type": "stream",
          "text": "B\n",
          "name": "stdout"
        }
      ]
    },
    {
      "metadata": {},
      "cell_type": "markdown",
      "source": "<h2 align='center' style=\"margin-top: 0px\"> For & While Loops</h2>\n\nLooping is an important part of carrying out operations — whether it is looping over a range of numbers, numbers in an array, items in a list, or keys and values in a dictionary, etc. You must be familiar with the use of loops in Python.\n\nPython makes looping much easier as the looping construct resembles the framework of a standard English sentence, making it easier to understand at a glance. "
    },
    {
      "metadata": {
        "trusted": true
      },
      "cell_type": "code",
      "source": "for i in range(1,5):\n    print(i)\n",
      "execution_count": 204,
      "outputs": [
        {
          "output_type": "stream",
          "text": "1\n2\n3\n4\n",
          "name": "stdout"
        }
      ]
    },
    {
      "metadata": {
        "trusted": true
      },
      "cell_type": "code",
      "source": "for i in range(1,10,2):\n    print(i) ",
      "execution_count": 205,
      "outputs": [
        {
          "output_type": "stream",
          "text": "1\n3\n5\n7\n9\n",
          "name": "stdout"
        }
      ]
    },
    {
      "metadata": {
        "trusted": true
      },
      "cell_type": "code",
      "source": "#Looping on a string\n\nmy_string = \"Mary had a little lamb\"\n\nfor alphabet in my_string:\n    print(alphabet)\n",
      "execution_count": 206,
      "outputs": [
        {
          "output_type": "stream",
          "text": "M\na\nr\ny\n \nh\na\nd\n \na\n \nl\ni\nt\nt\nl\ne\n \nl\na\nm\nb\n",
          "name": "stdout"
        }
      ]
    },
    {
      "metadata": {},
      "cell_type": "markdown",
      "source": "#pattern to print-\n\n*\n* *\n* * *\n* * * * \n* * * * *\n* * * *\n* * *\n* *\n*\n"
    },
    {
      "metadata": {
        "trusted": true
      },
      "cell_type": "code",
      "source": "str1=''\nfor i in range(0,9):\n    if i<5:\n        str1 += '* '\n        print(str1)\n    elif i>4:\n        str1 = str1[:-2]\n        print(str1)\n",
      "execution_count": 208,
      "outputs": [
        {
          "output_type": "stream",
          "text": "* \n* * \n* * * \n* * * * \n* * * * * \n* * * * \n* * * \n* * \n* \n",
          "name": "stdout"
        }
      ]
    },
    {
      "metadata": {
        "trusted": true
      },
      "cell_type": "code",
      "source": "my_string = \"Mary had a little lamb\"\n\nfor n,alphabet in enumerate(my_string):\n    print(alphabet, n)\n",
      "execution_count": 209,
      "outputs": [
        {
          "output_type": "stream",
          "text": "M 0\na 1\nr 2\ny 3\n  4\nh 5\na 6\nd 7\n  8\na 9\n  10\nl 11\ni 12\nt 13\nt 14\nl 15\ne 16\n  17\nl 18\na 19\nm 20\nb 21\n",
          "name": "stdout"
        }
      ]
    },
    {
      "metadata": {
        "trusted": true
      },
      "cell_type": "code",
      "source": "my_string = \"Mary had a little lamb\"\nvowels =''\nfor alphabet in my_string:\n    if alphabet in 'aeiou':\n        vowels += ' ' + alphabet\nprint(vowels)\n",
      "execution_count": 210,
      "outputs": [
        {
          "output_type": "stream",
          "text": " a a a i e a\n",
          "name": "stdout"
        }
      ]
    },
    {
      "metadata": {
        "trusted": true
      },
      "cell_type": "code",
      "source": "nums = '838848237890237388221'\nall_even=''\nall_odd = ''\nfor number in nums:\n    if int(number)%2 == 0:\n        all_even += number\n    else:\n        all_odd += number\n\nprint('All Evens are : '+ all_even + ' & All odds are : '+ all_odd)\n",
      "execution_count": 211,
      "outputs": [
        {
          "output_type": "stream",
          "text": "All Evens are : 8884828028822 & All odds are : 33793731\n",
          "name": "stdout"
        }
      ]
    },
    {
      "metadata": {},
      "cell_type": "markdown",
      "source": "**Iterations** can be over any collection. The iteration in a string goes over each character; however, in lists and tuples, the iteration goes over each item in turn, and in dictionaries, you can iterate over both keys and values or any one of them. Another keyword — `'enumerate'` — can be used to introduce another iterating variable that counts the iterations. Note that it starts with 0.\n\nOther commands that can be used are **'break', 'continue', and 'pass'**. To see the differences between them, use the following piece of code:"
    },
    {
      "metadata": {
        "trusted": true
      },
      "cell_type": "code",
      "source": "for i in range(20):\n    print(i)\n    if i>10:\n        break\n        print(\"Hello\")",
      "execution_count": 212,
      "outputs": [
        {
          "output_type": "stream",
          "text": "0\n1\n2\n3\n4\n5\n6\n7\n8\n9\n10\n11\n",
          "name": "stdout"
        }
      ]
    },
    {
      "metadata": {
        "trusted": true
      },
      "cell_type": "code",
      "source": "for i in range(20):\n    print(i)\n    if i>10:\n        pass\n        print(\"Hello\")",
      "execution_count": 213,
      "outputs": [
        {
          "output_type": "stream",
          "text": "0\n1\n2\n3\n4\n5\n6\n7\n8\n9\n10\n11\nHello\n12\nHello\n13\nHello\n14\nHello\n15\nHello\n16\nHello\n17\nHello\n18\nHello\n19\nHello\n",
          "name": "stdout"
        }
      ]
    },
    {
      "metadata": {
        "trusted": true
      },
      "cell_type": "code",
      "source": "for i in range(20):\n    print(i)\n    if i>10:\n        continue\n        print(\"Hello\")",
      "execution_count": 214,
      "outputs": [
        {
          "output_type": "stream",
          "text": "0\n1\n2\n3\n4\n5\n6\n7\n8\n9\n10\n11\n12\n13\n14\n15\n16\n17\n18\n19\n",
          "name": "stdout"
        }
      ]
    },
    {
      "metadata": {},
      "cell_type": "markdown",
      "source": "Notice how the break command breaks out of the loop once i = 11, and it is used to exit the iteration. Replace 'break' with pass'. You will now see that after the value of i exceeds 10, the string \"Hello\" is printed. 'Pass' does nothing and allows the remaining code to be executed. If you now replace 'pass' with 'continue', you will notice that the keyword \"Hello\" isn't printed at all, but the values of i are. The reason behind this is that 'continue' exits that iteration and moves to the next one, not allowing anything below it to be executed. 'Pass', on the other hand, allows for statements to be executed below it in the loop.\n\n "
    },
    {
      "metadata": {
        "trusted": true
      },
      "cell_type": "code",
      "source": "list_of_inventories = ['Apple', 'Banana', 'Potato', 'Mango', 'Onion', 'Toothpaste']\nfruits = ['Apple','Banana','Mango','Orange','Strawberry']\nvegetables = ['Potato', 'Onion','Cucumber', 'Celery']\n",
      "execution_count": 215,
      "outputs": []
    },
    {
      "metadata": {
        "trusted": true
      },
      "cell_type": "code",
      "source": "#count of fruits in inventory list\ncount_fruits = 0\n#count of vegetables in inventory list\ncount_veg = 0\nfor item in list_of_inventories:\n    print(item)\n    if item in fruits:\n        count_fruits+=1\n    elif item in vegetables:\n        count_veg +=1\n    else:\n        continue\nprint(count_fruits)\nprint(count_veg)",
      "execution_count": 216,
      "outputs": [
        {
          "output_type": "stream",
          "text": "Apple\nBanana\nPotato\nMango\nOnion\nToothpaste\n3\n2\n",
          "name": "stdout"
        }
      ]
    },
    {
      "metadata": {
        "trusted": true
      },
      "cell_type": "code",
      "source": "sentence = \"Is Python simpler than R ?\"\nfor word in sentence.split():\n    print(word)\n",
      "execution_count": 217,
      "outputs": [
        {
          "output_type": "stream",
          "text": "Is\nPython\nsimpler\nthan\nR\n?\n",
          "name": "stdout"
        }
      ]
    },
    {
      "metadata": {
        "trusted": true
      },
      "cell_type": "code",
      "source": "\n#sentence check\ntweet = '#beautiful #morning it is looking good'\n\nfor word in tweet.split():\n    if word.startswith('#'):\n        print(word[1:])\n",
      "execution_count": 218,
      "outputs": [
        {
          "output_type": "stream",
          "text": "beautiful\nmorning\n",
          "name": "stdout"
        }
      ]
    },
    {
      "metadata": {
        "trusted": true
      },
      "cell_type": "code",
      "source": "students_data = {1:['Shivam Bansal', 24] , 2:['Udit Bansal',25], 3:['Sonam Gupta', 26], 4:['Saif Ansari',24], 5:['Huzefa Calcuttawala',27]}\n",
      "execution_count": 219,
      "outputs": []
    },
    {
      "metadata": {
        "trusted": true
      },
      "cell_type": "code",
      "source": "for key, val in students_data.items():\n    print(key, val)\n",
      "execution_count": 220,
      "outputs": [
        {
          "output_type": "stream",
          "text": "1 ['Shivam Bansal', 24]\n2 ['Udit Bansal', 25]\n3 ['Sonam Gupta', 26]\n4 ['Saif Ansari', 24]\n5 ['Huzefa Calcuttawala', 27]\n",
          "name": "stdout"
        }
      ]
    },
    {
      "metadata": {
        "trusted": true
      },
      "cell_type": "code",
      "source": "for key in students_data.keys():\n    print(key)\n",
      "execution_count": 221,
      "outputs": [
        {
          "output_type": "stream",
          "text": "1\n2\n3\n4\n5\n",
          "name": "stdout"
        }
      ]
    },
    {
      "metadata": {
        "trusted": true
      },
      "cell_type": "code",
      "source": "for val in students_data.values():\n    print(val)\n",
      "execution_count": 222,
      "outputs": [
        {
          "output_type": "stream",
          "text": "['Shivam Bansal', 24]\n['Udit Bansal', 25]\n['Sonam Gupta', 26]\n['Saif Ansari', 24]\n['Huzefa Calcuttawala', 27]\n",
          "name": "stdout"
        }
      ]
    },
    {
      "metadata": {
        "trusted": true
      },
      "cell_type": "code",
      "source": "count = 0\nfor key, val in students_data.items():\n    if val[1]<25:\n        count+=1\n\nprint(count)",
      "execution_count": 223,
      "outputs": [
        {
          "output_type": "stream",
          "text": "2\n",
          "name": "stdout"
        }
      ]
    },
    {
      "metadata": {},
      "cell_type": "markdown",
      "source": "### while loop\n\nA while loop is used when you aren't sure of the number of iterations you need to have. It should be used when your results depend on the value of a variable."
    },
    {
      "metadata": {
        "trusted": true
      },
      "cell_type": "code",
      "source": "#while loop\nstart =20\ntotal= 0\nwhile start<51:\n    total+=start\n    start+=1\n    print(start)\n\nprint(total)\n\n",
      "execution_count": 224,
      "outputs": [
        {
          "output_type": "stream",
          "text": "21\n22\n23\n24\n25\n26\n27\n28\n29\n30\n31\n32\n33\n34\n35\n36\n37\n38\n39\n40\n41\n42\n43\n44\n45\n46\n47\n48\n49\n50\n51\n1085\n",
          "name": "stdout"
        }
      ]
    },
    {
      "metadata": {
        "trusted": true
      },
      "cell_type": "code",
      "source": "## Dictionary Iteration\n\n## Qs:What will the output of the following be?\nd = {0: 'Fish', 1: 'Bird', 2: 'Mammal'}\nfor i in d:\n    print(i)\n    \n## Ans:0 1 2  (By default, the iteration is over the keys.)",
      "execution_count": 225,
      "outputs": [
        {
          "output_type": "stream",
          "text": "0\n1\n2\n",
          "name": "stdout"
        }
      ]
    },
    {
      "metadata": {
        "trusted": true
      },
      "cell_type": "code",
      "source": "## Iterations\n\nd = {0, 1, 2}\nfor x in d:\n    print(d.add(x))\n\n# Ans: None None None (d.add(x) returns None; hence, only None gets printed.)",
      "execution_count": 226,
      "outputs": [
        {
          "output_type": "stream",
          "text": "None\nNone\nNone\n",
          "name": "stdout"
        }
      ]
    },
    {
      "metadata": {
        "trusted": true
      },
      "cell_type": "code",
      "source": "## The Continue Command\n\n# Qs:How many lines will the output contain for the following 3 pieces of code respectively?\n\nfor i in range(1,6):\n    if (i % 3 == 0):\n        print(str(i) + \" is Divisible by 3\")\n        break\n\n    print(str(i) + \" is not divisible by 3\")\n    \n# Ans: break' will stop the loop once the 'if' condition satisfies, i.e. when the value of 'i' becomes 3. \n#It will then come out of the loop. Hence, you get 3 lines, for 1, 2, and 3. The following is the output:\n\nprint(\"*************\")\n\nfor i in range(1,6):\n    if (i % 3 == 0):\n        print(str(i) + \" is Divisible by 3\")\n        continue\n\n    print(str(i) + \" is not divisible by 3\")\n    \n## Ans:'continue' will pass the control to the next iteration once the code reaches that line. Hence,\n#it will print 5 lines. The following is the output:\n    \nprint(\"************\")\n\nfor i in range(1,6):\n    if (i % 3 == 0):\n        print(str(i) + \" is Divisible by 3\")\n        pass\n\n    print(str(i) + \" is not divisible by 3\")\n    \n# Ans:'pass' will simply pass the control to the next line. The following is the output:\n",
      "execution_count": 333,
      "outputs": [
        {
          "output_type": "stream",
          "text": "1 is not divisible by 3\n2 is not divisible by 3\n3 is Divisible by 3\n*************\n1 is not divisible by 3\n2 is not divisible by 3\n3 is Divisible by 3\n4 is not divisible by 3\n5 is not divisible by 3\n************\n1 is not divisible by 3\n2 is not divisible by 3\n3 is Divisible by 3\n3 is not divisible by 3\n4 is not divisible by 3\n5 is not divisible by 3\n",
          "name": "stdout"
        }
      ]
    },
    {
      "metadata": {},
      "cell_type": "markdown",
      "source": "### Additional Reading\n\n[Python 3 — official documentation](https://docs.python.org/3/tutorial/controlflow.html)   \n[Compound statements](https://docs.python.org/3/reference/compound_stmts.html)"
    },
    {
      "metadata": {},
      "cell_type": "markdown",
      "source": "<h2 align='center' style=\"margin-top: 0px\">Comprehensions</h2>\n\nPython comprehensions are syntactic constructs that enable sequences to be built from other sequences in a clear and concise manner. Here, we will cover **list comprehensions and dictionary comprehensions**."
    },
    {
      "metadata": {},
      "cell_type": "markdown",
      "source": "### List Comprehension"
    },
    {
      "metadata": {},
      "cell_type": "markdown",
      "source": "Using list comprehensions is much more concise and elegant than explicit for loops. An example of creating a list using a loop and a comprehension is as follows:\n\n** List comprehensions turns old lists into new lists**\n\n`[expr for val in collection if condition]`\n\nThis is equivalent to the following for loop:\n\n<img src = \"https://github.com/nishantsbi/Medium_articles/blob/master/picures/22.PNG?raw=true\">"
    },
    {
      "metadata": {
        "trusted": true
      },
      "cell_type": "code",
      "source": "# using a for loop\n\nproduct_list = []\nfor i in range(10):\n    for j in range(10,20):\n        product_list.append(i*j)\nprint(product_list)",
      "execution_count": 329,
      "outputs": [
        {
          "output_type": "stream",
          "text": "[0, 0, 0, 0, 0, 0, 0, 0, 0, 0, 10, 11, 12, 13, 14, 15, 16, 17, 18, 19, 20, 22, 24, 26, 28, 30, 32, 34, 36, 38, 30, 33, 36, 39, 42, 45, 48, 51, 54, 57, 40, 44, 48, 52, 56, 60, 64, 68, 72, 76, 50, 55, 60, 65, 70, 75, 80, 85, 90, 95, 60, 66, 72, 78, 84, 90, 96, 102, 108, 114, 70, 77, 84, 91, 98, 105, 112, 119, 126, 133, 80, 88, 96, 104, 112, 120, 128, 136, 144, 152, 90, 99, 108, 117, 126, 135, 144, 153, 162, 171]\n",
          "name": "stdout"
        }
      ]
    },
    {
      "metadata": {
        "trusted": true
      },
      "cell_type": "code",
      "source": "#The same code using a list comprehension is as follows:\n\n# using list comprehension\nproduct_list = [ i*j for i in range(10) for j in range(10,20) ]\nprint(product_list)",
      "execution_count": 330,
      "outputs": [
        {
          "output_type": "stream",
          "text": "[0, 0, 0, 0, 0, 0, 0, 0, 0, 0, 10, 11, 12, 13, 14, 15, 16, 17, 18, 19, 20, 22, 24, 26, 28, 30, 32, 34, 36, 38, 30, 33, 36, 39, 42, 45, 48, 51, 54, 57, 40, 44, 48, 52, 56, 60, 64, 68, 72, 76, 50, 55, 60, 65, 70, 75, 80, 85, 90, 95, 60, 66, 72, 78, 84, 90, 96, 102, 108, 114, 70, 77, 84, 91, 98, 105, 112, 119, 126, 133, 80, 88, 96, 104, 112, 120, 128, 136, 144, 152, 90, 99, 108, 117, 126, 135, 144, 153, 162, 171]\n",
          "name": "stdout"
        }
      ]
    },
    {
      "metadata": {},
      "cell_type": "markdown",
      "source": "You can see that in the square brackets, you need to first put in the operation/output that you desire, followed by the loops from top to bottom. "
    },
    {
      "metadata": {},
      "cell_type": "markdown",
      "source": "A list comprehension consists of the following parts:\n\n- An Input Sequence.\n- A Variable representing members of the input sequence.\n- An Optional Predicate expression.\n- An Output Expression producing elements of the output list from members of the Input Sequence that satisfy the predicate.\n"
    },
    {
      "metadata": {
        "trusted": true
      },
      "cell_type": "code",
      "source": "#Say we need to obtain a list of all the integers in a sequence and then square them:\n\na_list = [1, '4', 9, 'a', 0, 4]\n\nsquared_ints = [ e**2 for e in a_list if type(e) == int]\nprint(squared_ints)\n# [ 1, 81, 0, 16 ]\n",
      "execution_count": 228,
      "outputs": [
        {
          "output_type": "stream",
          "text": "[1, 81, 0, 16]\n",
          "name": "stdout"
        }
      ]
    },
    {
      "metadata": {
        "trusted": true
      },
      "cell_type": "markdown",
      "source": "<img src = \"https://github.com/nishantsbi/Medium_articles/blob/master/picures/5.PNG?raw=true\">"
    },
    {
      "metadata": {
        "trusted": true
      },
      "cell_type": "markdown",
      "source": "<img src = \"https://github.com/nishantsbi/Medium_articles/blob/master/picures/6.PNG?raw=true\">"
    },
    {
      "metadata": {
        "trusted": true
      },
      "cell_type": "markdown",
      "source": "<img src = \"https://github.com/nishantsbi/Medium_articles/blob/master/picures/12.PNG?raw=true\">"
    },
    {
      "metadata": {
        "trusted": true
      },
      "cell_type": "markdown",
      "source": "<img src = \"https://github.com/nishantsbi/Medium_articles/blob/master/picures/7.PNG?raw=true\">"
    },
    {
      "metadata": {
        "trusted": true
      },
      "cell_type": "markdown",
      "source": "<img src = \"https://github.com/nishantsbi/Medium_articles/blob/master/picures/8.PNG?raw=true\">"
    },
    {
      "metadata": {
        "trusted": true,
        "scrolled": true
      },
      "cell_type": "markdown",
      "source": "<img src = \"https://github.com/nishantsbi/Medium_articles/blob/master/picures/9.PNG?raw=true\">"
    },
    {
      "metadata": {
        "trusted": true
      },
      "cell_type": "markdown",
      "source": "<img src = \"https://github.com/nishantsbi/Medium_articles/blob/master/picures/10.PNG?raw=true\">"
    },
    {
      "metadata": {
        "trusted": true
      },
      "cell_type": "markdown",
      "source": "<img src = \"https://github.com/nishantsbi/Medium_articles/blob/master/picures/11.PNG?raw=true\">"
    },
    {
      "metadata": {},
      "cell_type": "markdown",
      "source": "Suppose we need to create a list with first 10 multiple of 6 in it, So we may do this with a normal\nfor loop or with list comprehensions, Let's see both of them and understand the difference."
    },
    {
      "metadata": {
        "trusted": true
      },
      "cell_type": "code",
      "source": "#Normal​ ​For​ ​loop\nlist1 =[]\nfor n in range(1,11):\n    list1.append(n*6)\nprint(list1)",
      "execution_count": 241,
      "outputs": [
        {
          "output_type": "stream",
          "text": "[6, 12, 18, 24, 30, 36, 42, 48, 54, 60]\n",
          "name": "stdout"
        }
      ]
    },
    {
      "metadata": {
        "trusted": true
      },
      "cell_type": "code",
      "source": "#List​ ​comprehension\nlist1 = [n*6 for n in range(1,11)]\nprint(list1)",
      "execution_count": 242,
      "outputs": [
        {
          "output_type": "stream",
          "text": "[6, 12, 18, 24, 30, 36, 42, 48, 54, 60]\n",
          "name": "stdout"
        }
      ]
    },
    {
      "metadata": {},
      "cell_type": "markdown",
      "source": "We got the same output using list comprehensions just by writing a line of code.\n\nIn​ ​general​ ​list​ ​comprehension\n\n    `[<the_expression> for <the_element> in <the_iterable>]` \n    \nComparing this with our example n*6 is the​ ​expression​, n is the​ ​element​, range(1,11) is the\niterable"
    },
    {
      "metadata": {
        "trusted": true
      },
      "cell_type": "code",
      "source": "squares_list= []\n\nfor x in range(1,10):\n    squares_list.append(x**2)\nprint(squares_list)\n",
      "execution_count": 243,
      "outputs": [
        {
          "output_type": "stream",
          "text": "[1, 4, 9, 16, 25, 36, 49, 64, 81]\n",
          "name": "stdout"
        }
      ]
    },
    {
      "metadata": {
        "trusted": true
      },
      "cell_type": "code",
      "source": "squares_list = [x**2 for x in range(1,10)]\nprint(squares_list)",
      "execution_count": 244,
      "outputs": [
        {
          "output_type": "stream",
          "text": "[1, 4, 9, 16, 25, 36, 49, 64, 81]\n",
          "name": "stdout"
        }
      ]
    },
    {
      "metadata": {
        "trusted": true
      },
      "cell_type": "code",
      "source": "paragraph = [\"There was a fox.\" , 'It was brown in color.', \"It was seen near that farm sometime back\"]",
      "execution_count": 245,
      "outputs": []
    },
    {
      "metadata": {
        "trusted": true
      },
      "cell_type": "code",
      "source": "# ['There', 'was', 'a', 'fox.', 'It', 'was', 'brown', 'in', 'color.', 'It', 'was', 'seen', 'near', 'that', 'farm', 'sometime', 'back']",
      "execution_count": 246,
      "outputs": []
    },
    {
      "metadata": {
        "trusted": true
      },
      "cell_type": "code",
      "source": "single_word_list =[]\n\nfor sentence in paragraph:\n    for word in sentence.split():\n        single_word_list.append(word)\n\nprint(single_word_list)",
      "execution_count": 247,
      "outputs": [
        {
          "output_type": "stream",
          "text": "['There', 'was', 'a', 'fox.', 'It', 'was', 'brown', 'in', 'color.', 'It', 'was', 'seen', 'near', 'that', 'farm', 'sometime', 'back']\n",
          "name": "stdout"
        }
      ]
    },
    {
      "metadata": {
        "trusted": true
      },
      "cell_type": "code",
      "source": "single_word_list  = [word for sentence in paragraph for word in sentence.split()]\nprint(single_word_list)",
      "execution_count": 248,
      "outputs": [
        {
          "output_type": "stream",
          "text": "['There', 'was', 'a', 'fox.', 'It', 'was', 'brown', 'in', 'color.', 'It', 'was', 'seen', 'near', 'that', 'farm', 'sometime', 'back']\n",
          "name": "stdout"
        }
      ]
    },
    {
      "metadata": {},
      "cell_type": "markdown",
      "source": "**Applying​ ​list​ ​comprehension​ ​with​ ​a​ ​condition**\n\nNow, Suppose we need to create a list of multiple of 6 for just even numbers between 1 to 10."
    },
    {
      "metadata": {
        "trusted": true
      },
      "cell_type": "code",
      "source": "list1 =[]\nfor n in range(1,11):\n    if n%2==0:\n        list1.append(n*6)\nprint(list1)\n",
      "execution_count": 249,
      "outputs": [
        {
          "output_type": "stream",
          "text": "[12, 24, 36, 48, 60]\n",
          "name": "stdout"
        }
      ]
    },
    {
      "metadata": {
        "trusted": true
      },
      "cell_type": "code",
      "source": "##Using list comprehensions\nlist1 = [n*6 for n in range(1,11) if n%2==0]\nprint(list1)",
      "execution_count": 250,
      "outputs": [
        {
          "output_type": "stream",
          "text": "[12, 24, 36, 48, 60]\n",
          "name": "stdout"
        }
      ]
    },
    {
      "metadata": {},
      "cell_type": "markdown",
      "source": "In​ ​general​ ​list​ ​comprehension\n\n     `[<the_expression> for <the_element> in <the_iterable> if <the_condition>]`  \n\nComparing this with our example n*6 is the​ ​expression​, n is the​ ​element​, range(1,11) is the\niterable​ and n%2==0 is the​ ​condition.\n"
    },
    {
      "metadata": {
        "trusted": true
      },
      "cell_type": "code",
      "source": "#list comp with if statement\nvowels = ['a','e','i','o','u']\nvowels_from_sentence =[]\nfor sentence in paragraph:\n    for word in sentence.split():\n        if word[0].lower() in vowels:\n            vowels_from_sentence.append(word)\n\nprint(vowels_from_sentence)\n",
      "execution_count": 251,
      "outputs": [
        {
          "output_type": "stream",
          "text": "['a', 'It', 'in', 'It']\n",
          "name": "stdout"
        }
      ]
    },
    {
      "metadata": {
        "trusted": true
      },
      "cell_type": "code",
      "source": "#[ for sentence in paragraph]\n#[ for sentence in paragraph for word in sentence.split()]\n",
      "execution_count": 252,
      "outputs": []
    },
    {
      "metadata": {
        "trusted": true
      },
      "cell_type": "code",
      "source": "vowels_comp = [word for sentence in paragraph for word in sentence.split() if word[0].lower() in vowels]\nprint(vowels_comp)",
      "execution_count": 253,
      "outputs": [
        {
          "output_type": "stream",
          "text": "['a', 'It', 'in', 'It']\n",
          "name": "stdout"
        }
      ]
    },
    {
      "metadata": {},
      "cell_type": "markdown",
      "source": "**Applying​ ​list​ ​comprehension​ ​with​ ​if-else​ ​condition**  \n\nNow, Suppose we need to create a list of multiple of 6 for even numbers between 1 to 10 and\nmultiple of 5 for rest of the numbers."
    },
    {
      "metadata": {
        "trusted": true
      },
      "cell_type": "code",
      "source": "list1 =[]\nfor n in range(1,11):\n    if n%2==0:\n        list1.append(n*6)\n    else:\n        list1.append(n*5)\nprint(list1)\n",
      "execution_count": 254,
      "outputs": [
        {
          "output_type": "stream",
          "text": "[5, 12, 15, 24, 25, 36, 35, 48, 45, 60]\n",
          "name": "stdout"
        }
      ]
    },
    {
      "metadata": {
        "trusted": true
      },
      "cell_type": "code",
      "source": "##Using list comprehensions\nlist1 = [n*6 if n%2==0 else n*5 for n in range(1,11)]\nprint(list1)\n",
      "execution_count": 255,
      "outputs": [
        {
          "output_type": "stream",
          "text": "[5, 12, 15, 24, 25, 36, 35, 48, 45, 60]\n",
          "name": "stdout"
        }
      ]
    },
    {
      "metadata": {},
      "cell_type": "markdown",
      "source": "**In​ ​general​ ​list​ ​comprehension**\n\n     `[<the_expression> if <the_condition> else <other_expression> for <the_element> in<the_iterable>]` \n\nComparing this with our example n*6 is the​ ​expression​, n%2==0 is the​ ​condition,​ ​n*5 is the\nother​ ​expression​, n is the​ ​element​ and range(1,11) is the​ ​iterable\n\n"
    },
    {
      "metadata": {},
      "cell_type": "markdown",
      "source": "\n**Applying​ ​list​ ​comprehension​ ​with​ ​Nested​ ​loops**  \n\nNow, Suppose we need to multiply n ranging from 1 to 10 with first 1 then 2 and then 3."
    },
    {
      "metadata": {
        "trusted": true
      },
      "cell_type": "code",
      "source": "list1 =[]\nfor i in range(1,4):\n    for j in range(1,11):\n        list1.append(i*j)\nprint(list1)",
      "execution_count": 256,
      "outputs": [
        {
          "output_type": "stream",
          "text": "[1, 2, 3, 4, 5, 6, 7, 8, 9, 10, 2, 4, 6, 8, 10, 12, 14, 16, 18, 20, 3, 6, 9, 12, 15, 18, 21, 24, 27, 30]\n",
          "name": "stdout"
        }
      ]
    },
    {
      "metadata": {
        "trusted": true
      },
      "cell_type": "code",
      "source": "list1 = [i*j for i in range(1,4) for j in range(1,11) ]\nprint(list1)",
      "execution_count": 257,
      "outputs": [
        {
          "output_type": "stream",
          "text": "[1, 2, 3, 4, 5, 6, 7, 8, 9, 10, 2, 4, 6, 8, 10, 12, 14, 16, 18, 20, 3, 6, 9, 12, 15, 18, 21, 24, 27, 30]\n",
          "name": "stdout"
        }
      ]
    },
    {
      "metadata": {},
      "cell_type": "markdown",
      "source": "<img src = \"https://github.com/nishantsbi/Medium_articles/blob/master/picures/23.PNG?raw=true\">\n"
    },
    {
      "metadata": {
        "trusted": true
      },
      "cell_type": "code",
      "source": "squared_dictionary = {num : num**2 for num in range(0, 25)}\nprint(squared_dictionary)",
      "execution_count": 258,
      "outputs": [
        {
          "output_type": "stream",
          "text": "{0: 0, 1: 1, 2: 4, 3: 9, 4: 16, 5: 25, 6: 36, 7: 49, 8: 64, 9: 81, 10: 100, 11: 121, 12: 144, 13: 169, 14: 196, 15: 225, 16: 256, 17: 289, 18: 324, 19: 361, 20: 400, 21: 441, 22: 484, 23: 529, 24: 576}\n",
          "name": "stdout"
        }
      ]
    },
    {
      "metadata": {
        "trusted": true
      },
      "cell_type": "code",
      "source": "students_data = {1:['Shivam Bansal', 24] , 2:['Udit Bansal',25], 3:['Sonam Gupta', 26], 4:['Saif Ansari',24], 5:['Huzefa Calcuttawala',27]}\n",
      "execution_count": 259,
      "outputs": []
    },
    {
      "metadata": {
        "trusted": true
      },
      "cell_type": "code",
      "source": "names_dict ={}\n\n#iterate over each key, val pair\nfor roll_num,details in students_data.items():\n    if roll_num%2==0:\n        names_dict[roll_num]= details[0]\nprint(names_dict)",
      "execution_count": 260,
      "outputs": [
        {
          "output_type": "stream",
          "text": "{2: 'Udit Bansal', 4: 'Saif Ansari'}\n",
          "name": "stdout"
        }
      ]
    },
    {
      "metadata": {
        "trusted": true
      },
      "cell_type": "code",
      "source": "names_comp = {roll_num:details[0] for roll_num,details in students_data.items() if roll_num%2==0}\nprint(names_comp)",
      "execution_count": 261,
      "outputs": [
        {
          "output_type": "stream",
          "text": "{2: 'Udit Bansal', 4: 'Saif Ansari'}\n",
          "name": "stdout"
        }
      ]
    },
    {
      "metadata": {
        "trusted": true
      },
      "cell_type": "code",
      "source": "## List Comprehension\n\n# Qs:What will the output of the following code be?\n\nprint([i+j for i in \"abc\" for j in \"def\"])",
      "execution_count": 262,
      "outputs": [
        {
          "output_type": "stream",
          "text": "['ad', 'ae', 'af', 'bd', 'be', 'bf', 'cd', 'ce', 'cf']\n",
          "name": "stdout"
        }
      ]
    },
    {
      "metadata": {},
      "cell_type": "markdown",
      "source": "Ans:For every value of j, i and j are concatenated in a list."
    },
    {
      "metadata": {},
      "cell_type": "markdown",
      "source": "### Creating a List Comprehension\n\nQs:You are given an integer 'n' as the input. Create a list comprehension containing the squares of the integers from 1 till n^2 (including 1 and n), and print the list. \n\nFor example, if the input is 4, the output should be a list as follows:`[1, 4, 9, 16]`\n\nThe input integer 'n' is stored in the variable 'n'.  "
    },
    {
      "metadata": {
        "trusted": true
      },
      "cell_type": "code",
      "source": "n = int(input())\n\nsquared_n=[n**2 for n in range(1,n+1,1)]\nprint(squared_n)",
      "execution_count": 264,
      "outputs": [
        {
          "output_type": "stream",
          "name": "stdout",
          "text": "5\n[1, 4, 9, 16, 25]\n"
        }
      ]
    },
    {
      "metadata": {},
      "cell_type": "markdown",
      "source": "### List Comprehensions\n\nQs:Extract the words that start with a vowel from a list input_list=[wood, old, apple, big, item, euphoria] using list comprehensions."
    },
    {
      "metadata": {
        "trusted": true
      },
      "cell_type": "code",
      "source": "# Using naive for loop\ninput_list=['wood', 'old', 'apple', 'big', 'item', 'euphoria']\nfor word in input_list:\n    if word[0] in 'aeiou':\n        print(word)",
      "execution_count": 265,
      "outputs": [
        {
          "output_type": "stream",
          "text": "old\napple\nitem\neuphoria\n",
          "name": "stdout"
        }
      ]
    },
    {
      "metadata": {
        "trusted": true
      },
      "cell_type": "code",
      "source": "input_list=['wood', 'old', 'apple', 'big', 'item', 'euphoria']\n\nlist_vowel =[w for w in input_list if w[0] in 'aeiou']\nprint(list_vowel)",
      "execution_count": 266,
      "outputs": [
        {
          "output_type": "stream",
          "text": "['old', 'apple', 'item', 'euphoria']\n",
          "name": "stdout"
        }
      ]
    },
    {
      "metadata": {
        "trusted": true
      },
      "cell_type": "code",
      "source": "## Aliter oneline answers\ninput_list=['wood', 'old', 'apple', 'big', 'item', 'euphoria']\nprint([w for w in input_list if w[0] in 'aeiou'])\n\nvowel = 'a', 'e', 'i', 'o', 'u'\nprint([w for w in input_list if w.startswith(vowel)])",
      "execution_count": 267,
      "outputs": [
        {
          "output_type": "stream",
          "text": "['old', 'apple', 'item', 'euphoria']\n['old', 'apple', 'item', 'euphoria']\n",
          "name": "stdout"
        }
      ]
    },
    {
      "metadata": {},
      "cell_type": "markdown",
      "source": "## Dictionary Comprehension\n\nA dict comprehension looks like this:\n\n    `dict_comp = {key-expr : value-expr for value in collection if condition}`\n\nA set comprehension looks like the equivalent list comprehension except with curly braces instead of square brackets:\n\n    `set_comp = {expr for value in collection if condition}`\n\nYou are given an integer input n.\n\nQs:Write a program to generate a dictionary that contains the key-value pairs i: i**2 where ' i ' is an integer number from 1 to n (both 1 and n included). \n\nFor example, if the input is n=8, the output should be a dictionary as follows:\n\n    `{1: 1, 2: 4, 3: 9, 4: 16, 5: 25, 6: 36, 7: 49, 8: 64}`"
    },
    {
      "metadata": {
        "trusted": true
      },
      "cell_type": "code",
      "source": "## Naive for loop\nn=int(input(\"Input a number \"))\nd = dict()\n\nfor x in range(1,n+1):\n    d[x]=x*x\n\nprint(d) ",
      "execution_count": 269,
      "outputs": [
        {
          "output_type": "stream",
          "name": "stdout",
          "text": "Input a number 5\n{1: 1, 2: 4, 3: 9, 4: 16, 5: 25}\n"
        }
      ]
    },
    {
      "metadata": {
        "trusted": true
      },
      "cell_type": "code",
      "source": "## Solving with dict comprehension\n\nn = int(input())\n\ndictionary = {n:n*n for n in range(1,n+1)}\nprint(dictionary)",
      "execution_count": 271,
      "outputs": [
        {
          "output_type": "stream",
          "name": "stdout",
          "text": "5\n{1: 1, 2: 4, 3: 9, 4: 16, 5: 25}\n"
        }
      ]
    },
    {
      "metadata": {
        "trusted": true
      },
      "cell_type": "code",
      "source": "##Dictionary Comprehension\n\n#Qs:What will the output of the following code be?\n\nd = {x.upper(): x*3 for x in 'acbd'}\nprint(d)\n#Ans: a*3 will return aaa and a.upper() will return 'A",
      "execution_count": 272,
      "outputs": [
        {
          "output_type": "stream",
          "text": "{'A': 'aaa', 'C': 'ccc', 'B': 'bbb', 'D': 'ddd'}\n",
          "name": "stdout"
        }
      ]
    },
    {
      "metadata": {},
      "cell_type": "markdown",
      "source": "### Additional Reading\n\n- [Comprehensions explained visually](https://treyhunner.com/2015/12/python-list-comprehensions-now-in-color/)\n- [Python 3 idioms test](https://python-3-patterns-idioms-test.readthedocs.io/en/latest/Comprehensions.html)"
    },
    {
      "metadata": {},
      "cell_type": "markdown",
      "source": "<h2 align='center' style=\"margin-top: 0px\">Functions</h2>\n\nFunctions, as the name suggests, perform a task or function. They are **blocks of code that can be reused at various parts of the code as well as various files**. When you import any package and call any of its methods, you make use of the functions defined in it. This makes determining the use of each portion of the code significantly easier.\n\nAs a rule of thumb, if you anticipate needing to repeat the same or very similar code more than once, it may be worth writing a reusable function. Functions can also help make your code more readable by giving a name to a group of Python statements.\n\nFunctions are declared with the `def` keyword and returned from with the `return` keyword:\n\n<img src = \"https://github.com/nishantsbi/Medium_articles/blob/master/picures/24.PNG?raw=true\">\n\nEach function can have `positional` arguments and `keyword` arguments. Keyword arguments are most commonly used to specify default values or optional arguments. In the preceding function, x and y are positional arguments while z is a keyword argument. This means that the function can be called in any of these ways:\n\n<img src = \"https://github.com/nishantsbi/Medium_articles/blob/master/picures/25.PNG?raw=true\">"
    },
    {
      "metadata": {
        "trusted": true
      },
      "cell_type": "code",
      "source": "def scream():\n    print('Hello World')\nscream()\n",
      "execution_count": 273,
      "outputs": [
        {
          "output_type": "stream",
          "text": "Hello World\n",
          "name": "stdout"
        }
      ]
    },
    {
      "metadata": {
        "trusted": true
      },
      "cell_type": "code",
      "source": "def square(num):\n    out = num**2\n    return(out)\n",
      "execution_count": 274,
      "outputs": []
    },
    {
      "metadata": {
        "trusted": true
      },
      "cell_type": "code",
      "source": "sq_3 = square(3)\nprint(sq_3)",
      "execution_count": 275,
      "outputs": [
        {
          "output_type": "stream",
          "text": "9\n",
          "name": "stdout"
        }
      ]
    },
    {
      "metadata": {
        "trusted": true
      },
      "cell_type": "code",
      "source": "def square(num):\n    out = num**2\n    print(out)\n",
      "execution_count": 276,
      "outputs": []
    },
    {
      "metadata": {
        "trusted": true
      },
      "cell_type": "code",
      "source": "q = square(4)\nprint(\"Q is\"+str(q))\n",
      "execution_count": 277,
      "outputs": [
        {
          "output_type": "stream",
          "text": "16\nQ isNone\n",
          "name": "stdout"
        }
      ]
    },
    {
      "metadata": {
        "trusted": true
      },
      "cell_type": "code",
      "source": "def factorial(n):\n    if n>1:\n        return n*factorial(n-1)\n    else:\n        return n\n\nfact = factorial(5)\nprint(fact)\n",
      "execution_count": 278,
      "outputs": [
        {
          "output_type": "stream",
          "text": "120\n",
          "name": "stdout"
        }
      ]
    },
    {
      "metadata": {
        "trusted": true
      },
      "cell_type": "code",
      "source": "def addition(*args):\n    print(args)\n    return(sum(args))\n",
      "execution_count": 279,
      "outputs": []
    },
    {
      "metadata": {
        "trusted": true,
        "scrolled": true
      },
      "cell_type": "code",
      "source": "print(addition(4,5,6,7,8,9))\nprint(addition(1,2))",
      "execution_count": 280,
      "outputs": [
        {
          "output_type": "stream",
          "text": "(4, 5, 6, 7, 8, 9)\n39\n(1, 2)\n3\n",
          "name": "stdout"
        }
      ]
    },
    {
      "metadata": {
        "trusted": true
      },
      "cell_type": "code",
      "source": "def proper(some_text):\n    some_text = some_text.strip()\n    some_text = \" \".join([word[0].upper() + word[1:] for word in some_text.split()])\n    return some_text\n\ncaptain = proper(\"mahendra singh dhoni\")\nprint(captain)\n",
      "execution_count": 281,
      "outputs": [
        {
          "output_type": "stream",
          "text": "Mahendra Singh Dhoni\n",
          "name": "stdout"
        }
      ]
    },
    {
      "metadata": {},
      "cell_type": "markdown",
      "source": "### Function\n\nQs:Create a function squared(),  which takes x and y as arguments and returns the x**y value. For e.g., if x = 2  and y = 3 , then the output is 8."
    },
    {
      "metadata": {
        "trusted": true
      },
      "cell_type": "code",
      "source": "input_list=['2','3']\nx = int(input_list[0])\ny = int(input_list[1])\n\ndef squared(x,y):\n    square=x**y\n    return square\n\n#Write your code here\n\nprint(squared(x,y))",
      "execution_count": 282,
      "outputs": [
        {
          "output_type": "stream",
          "text": "8\n",
          "name": "stdout"
        }
      ]
    },
    {
      "metadata": {
        "trusted": true
      },
      "cell_type": "code",
      "source": "##Functions\n\n# Qs:What is the output of the following program?\n\ndef say(message, times = 1):\n    print(message * times)\n\nsay('Hello')\nsay('World', 5)\n\n#Ans: or some functions, you may want to make some parameters optional and use default values in case the user does not want\n#to provide values for them. This is done with the help of default argument values. You can specify default argument values \n#for parameters by appending to the parameter name in the function definition of the assignment operator (=), followed by \n#the default value. The function 'say' is used to print a string as many times as specified. If you don’t supply a value, \n#then by default, the string is printed just once. You achieve this by specifying a default argument value of 1 to the \n#parameter ‘times’. In the first usage of ‘say’, you supply only the string, and it prints the string once. \n#In the second usage of ‘say’, you supply both the string and an argument 5, stating that you want to say the string message\n#five times. ",
      "execution_count": 283,
      "outputs": [
        {
          "output_type": "stream",
          "text": "Hello\nWorldWorldWorldWorldWorld\n",
          "name": "stdout"
        }
      ]
    },
    {
      "metadata": {},
      "cell_type": "markdown",
      "source": "**Id Function**\n\n**Id** function accepts a single parameter and is used to return the identity of an object. This identity has to be **unique and constant for this object during the lifetime**. Two objects with non-overlapping lifetimes may have the same id() value. If we relate this to C, then they are actually the memory address, here in Python it is the unique id. This function is generally used internally in Python.\n\nQs:Which of the following is the use of the id() function in Python?\nAns:Python has a unique identification number for each object created, id() return the id number of that object."
    },
    {
      "metadata": {
        "trusted": true
      },
      "cell_type": "code",
      "source": "## Ex\n\n\n# This program shows various identities \nstr1 = \"geek\"\nprint(id(str1)) \n  \nstr2 = \"geek\"\nprint(id(str2)) \n  \n# This will return True \nprint(id(str1) == id(str2)) \n",
      "execution_count": 286,
      "outputs": [
        {
          "output_type": "stream",
          "text": "139635629102616\n139635629102616\nTrue\n",
          "name": "stdout"
        }
      ]
    },
    {
      "metadata": {
        "trusted": true
      },
      "cell_type": "code",
      "source": "# Use in Lists \nlist1 = [\"aakash\", \"priya\", \"abdul\"] \nprint(id(list1[0])) \nprint(id(list1[2])) \n  \n# This returns false \nprint(id(list1[0])==id(list1[2]))",
      "execution_count": 287,
      "outputs": [
        {
          "output_type": "stream",
          "text": "139635629209336\n139635629211408\nFalse\n",
          "name": "stdout"
        }
      ]
    },
    {
      "metadata": {},
      "cell_type": "markdown",
      "source": "### Lambda Expressions (Anonymous  Functions)\n\nLambda expressions are also another way of defining functions but with a difference. They aren't capable of multiple expressions and can only handle single expressions. The format of lambda statements is as follows:\n\n    `function_name  = lambda <space>  input_parameters  :  output_parameters`\n\nEg: `join_by_comma = lambda x : ','.join(x)` \n\nThis will create a function called `join_by_comma` and will return a string with each item of the list separated by a comma."
    },
    {
      "metadata": {
        "trusted": true
      },
      "cell_type": "code",
      "source": "string_to_list = lambda x: x.split()\nprint(string_to_list(captain))\nprint(type(string_to_list))\n",
      "execution_count": 288,
      "outputs": [
        {
          "output_type": "stream",
          "text": "['Mahendra', 'Singh', 'Dhoni']\n<class 'function'>\n",
          "name": "stdout"
        }
      ]
    },
    {
      "metadata": {},
      "cell_type": "markdown",
      "source": "Similar to if-else and the for loop, the parts belonging to a function are indented on it. There is no need for brackets except for the input parameters that are specified just after the function name."
    },
    {
      "metadata": {
        "trusted": true
      },
      "cell_type": "code",
      "source": "product = lambda x, y : x*y\nprint(product(3,4))\n",
      "execution_count": 289,
      "outputs": [
        {
          "output_type": "stream",
          "text": "12\n",
          "name": "stdout"
        }
      ]
    },
    {
      "metadata": {
        "trusted": true
      },
      "cell_type": "markdown",
      "source": "### Lambda\n\nQs:Create a lambda function 'greater', which takes two arguments x and y and return x if x>y otherwise y.\nIf x = 2 and y= 3, then the output should be 3."
    },
    {
      "metadata": {
        "trusted": true
      },
      "cell_type": "code",
      "source": "input_list=['9','3']\na = int(input_list[0])\nb = int(input_list[1])\n\ngreater=lambda a,b:a if a>b else b\n\nprint(greater(a,b))",
      "execution_count": 290,
      "outputs": [
        {
          "output_type": "stream",
          "text": "9\n",
          "name": "stdout"
        }
      ]
    },
    {
      "metadata": {
        "trusted": true
      },
      "cell_type": "code",
      "source": "## Aliter:using vanila function\ninput_list=['9','3']\na = int(input_list[0])\nb = int(input_list[1])\n\ndef greater(x,y):\n    if x>y:\n        return x\n    else:\n        return y\n    \ngreater(a,b)",
      "execution_count": 291,
      "outputs": [
        {
          "output_type": "execute_result",
          "execution_count": 291,
          "data": {
            "text/plain": "9"
          },
          "metadata": {}
        }
      ]
    },
    {
      "metadata": {
        "trusted": true
      },
      "cell_type": "code",
      "source": "##Lambdas\n\n# Qs:What is the output of this program?\n\nmin = (lambda x, y: x if x < y else y)\nmin(101*99, 102*98)",
      "execution_count": 292,
      "outputs": [
        {
          "output_type": "execute_result",
          "execution_count": 292,
          "data": {
            "text/plain": "9996"
          },
          "metadata": {}
        }
      ]
    },
    {
      "metadata": {},
      "cell_type": "markdown",
      "source": "### Additional Reading\n\n- [A byte of Python: Functions](https://python.swaroopch.com/functions.html)\n- [Defining functions of your own](http://anh.cs.luc.edu/python/hands-on/3.1/handsonHtml/functions.html)\n\nYou can also go through the list of all built-in functions in Python from the following link:\n\n- [Built-in function in Python](https://docs.python.org/2/library/functions.html)"
    },
    {
      "metadata": {
        "trusted": true
      },
      "cell_type": "markdown",
      "source": "<h2 align='center' style=\"margin-top: 0px\">Map, Filter, and Reduce</h2>\n\nMap is a function that works like list comprehensions and for loops. It is used when you need to map or implement functions on various elements at the same time.\n\nMap applies a unary function to each element in the sequence and returns a new sequence containing the results, in the same order. Map applies a function to all the items in an input_list.\n\n`map(function_to_apply, list_of_inputs)`"
    },
    {
      "metadata": {
        "trusted": true
      },
      "cell_type": "code",
      "source": "first_list = [2, 4, 5]\nprint(first_list**2)\n",
      "execution_count": 295,
      "outputs": [
        {
          "output_type": "error",
          "ename": "TypeError",
          "evalue": "unsupported operand type(s) for ** or pow(): 'list' and 'int'",
          "traceback": [
            "\u001b[0;31m---------------------------------------------------------------------------\u001b[0m",
            "\u001b[0;31mTypeError\u001b[0m                                 Traceback (most recent call last)",
            "\u001b[0;32m<ipython-input-295-1f41c4b43dbf>\u001b[0m in \u001b[0;36m<module>\u001b[0;34m()\u001b[0m\n\u001b[1;32m      1\u001b[0m \u001b[0mfirst_list\u001b[0m \u001b[0;34m=\u001b[0m \u001b[0;34m[\u001b[0m\u001b[0;36m2\u001b[0m\u001b[0;34m,\u001b[0m \u001b[0;36m4\u001b[0m\u001b[0;34m,\u001b[0m \u001b[0;36m5\u001b[0m\u001b[0;34m]\u001b[0m\u001b[0;34m\u001b[0m\u001b[0m\n\u001b[0;32m----> 2\u001b[0;31m \u001b[0mprint\u001b[0m\u001b[0;34m(\u001b[0m\u001b[0mfirst_list\u001b[0m\u001b[0;34m**\u001b[0m\u001b[0;36m2\u001b[0m\u001b[0;34m)\u001b[0m\u001b[0;34m\u001b[0m\u001b[0m\n\u001b[0m",
            "\u001b[0;31mTypeError\u001b[0m: unsupported operand type(s) for ** or pow(): 'list' and 'int'"
          ]
        }
      ]
    },
    {
      "metadata": {
        "trusted": true
      },
      "cell_type": "code",
      "source": "print(map(lambda x: x**2, first_list))",
      "execution_count": 296,
      "outputs": [
        {
          "output_type": "stream",
          "text": "<map object at 0x7eff740d6cf8>\n",
          "name": "stdout"
        }
      ]
    },
    {
      "metadata": {
        "trusted": true
      },
      "cell_type": "code",
      "source": "first_list = [2,4,5]\nprint(list(map(lambda x: x**2, first_list)))",
      "execution_count": 297,
      "outputs": [
        {
          "output_type": "stream",
          "text": "[4, 16, 25]\n",
          "name": "stdout"
        }
      ]
    },
    {
      "metadata": {
        "trusted": true
      },
      "cell_type": "code",
      "source": "list(map(lambda k: 2**k, [1, 2, 3, 4]))",
      "execution_count": 298,
      "outputs": [
        {
          "output_type": "execute_result",
          "execution_count": 298,
          "data": {
            "text/plain": "[2, 4, 8, 16]"
          },
          "metadata": {}
        }
      ]
    },
    {
      "metadata": {},
      "cell_type": "markdown",
      "source": "Qs:Using the Map function, create a list 'cube', which consists of the cube of numbers in input_list.\n\nFor e.g. if the input list is `[5,6,4,8,9]`, the output should be `[125, 216, 64, 512, 729]`."
    },
    {
      "metadata": {
        "trusted": true
      },
      "cell_type": "code",
      "source": "input_list = [5,6,4,8,9]\n\ncube=list(map(lambda x:x**3,input_list))\n\nprint(cube)",
      "execution_count": 299,
      "outputs": [
        {
          "output_type": "stream",
          "text": "[125, 216, 64, 512, 729]\n",
          "name": "stdout"
        }
      ]
    },
    {
      "metadata": {},
      "cell_type": "markdown",
      "source": "### Map Function\n\nUsing the function Map, count the number of words that start with ‘S’ in input_list."
    },
    {
      "metadata": {
        "trusted": true
      },
      "cell_type": "code",
      "source": "input_list =['San Jose', 'San Francisco', 'Santa Fe', 'Houston']\n\nprint(sum(list(map(lambda x: x.startswith('S'),input_list))))",
      "execution_count": 300,
      "outputs": [
        {
          "output_type": "stream",
          "text": "3\n",
          "name": "stdout"
        }
      ]
    },
    {
      "metadata": {
        "trusted": true
      },
      "cell_type": "code",
      "source": "first_list = [2, 4, 5]",
      "execution_count": 301,
      "outputs": []
    },
    {
      "metadata": {
        "trusted": true
      },
      "cell_type": "code",
      "source": "def squareit(n):\n    return n**2\nprint(list(map(squareit, first_list)))\n",
      "execution_count": 302,
      "outputs": [
        {
          "output_type": "stream",
          "text": "[4, 16, 25]\n",
          "name": "stdout"
        }
      ]
    },
    {
      "metadata": {
        "trusted": true
      },
      "cell_type": "code",
      "source": "sums_list = [3,5,9,7]\nsums_list2 = (4,5,6,7)\nprint(list(map(lambda x,y : x+y, sums_list,sums_list2)))\n",
      "execution_count": 303,
      "outputs": [
        {
          "output_type": "stream",
          "text": "[7, 10, 15, 14]\n",
          "name": "stdout"
        }
      ]
    },
    {
      "metadata": {
        "trusted": true
      },
      "cell_type": "code",
      "source": "list_of_names = ['nikola', 'james', 'albert']\nlist_of_names2 = ['tesla','watt','einstein']\nproper = lambda x, y: x[0].upper()+x[1:] +' '+ y[0].upper()+y[1:]\nprint(list(map(proper, list_of_names,list_of_names2)))\n",
      "execution_count": 304,
      "outputs": [
        {
          "output_type": "stream",
          "text": "['Nikola Tesla', 'James Watt', 'Albert Einstein']\n",
          "name": "stdout"
        }
      ]
    },
    {
      "metadata": {},
      "cell_type": "markdown",
      "source": "### Map Function\n\nQs:Create a list ‘name’ consisting of the combination of the first name and the second name from list 1 and 2 respectively. \n\nFor e.g. if the input list is: `[ ['Ankur', 'Avik', 'Kiran', 'Nitin'], ['Narang', 'Sarkar', 'R', 'Sareen']]`\n\nthe output list should be the list:`['Ankur Narang', 'Avik Sarkar', 'Kiran R', 'Nitin Sareen']`"
    },
    {
      "metadata": {
        "trusted": true
      },
      "cell_type": "code",
      "source": "input_list=[ ['Ankur', 'Avik', 'Kiran', 'Nitin'], ['Narang', 'Sarkar', 'R', 'Sareen']]\nfirst_name = input_list[0]\nlast_name = input_list[1]\n\nname = list(map(lambda x,y:x+\" \"+y,first_name,last_name))\n\nprint(name)\n\n",
      "execution_count": 305,
      "outputs": [
        {
          "output_type": "stream",
          "text": "['Ankur Narang', 'Avik Sarkar', 'Kiran R', 'Nitin Sareen']\n",
          "name": "stdout"
        }
      ]
    },
    {
      "metadata": {},
      "cell_type": "markdown",
      "source": "### Filter\n\n**'Filter'** is a similar operation, but it requires the function to look for a condition and then, only returns those elements from the collection that satisfy the condition. As the name suggests, **filter creates a list of elements for which a function returns true** i.e.subset of the input list.Its a built-in function in python\n\n**'Reduce'** is an operation that breaks down the entire process into pair-wise operations and uses the result from each operation, with the successive element.It is NOT a built-in function in python\n\n"
    },
    {
      "metadata": {
        "trusted": true
      },
      "cell_type": "code",
      "source": "#Filter\ndivby3 = lambda x:  x % 3 == 0\nmy_list = [3,4,5,6,7,8,9]\ndiv = filter(divby3, my_list)\nprint(list(div))\n\n",
      "execution_count": 306,
      "outputs": [
        {
          "output_type": "stream",
          "text": "[3, 6, 9]\n",
          "name": "stdout"
        }
      ]
    },
    {
      "metadata": {
        "trusted": true
      },
      "cell_type": "code",
      "source": "number_list = range(-5, 5)\nless_than_zero = list(filter(lambda x: x < 0, number_list))\nprint(less_than_zero)",
      "execution_count": 307,
      "outputs": [
        {
          "output_type": "stream",
          "text": "[-5, -4, -3, -2, -1]\n",
          "name": "stdout"
        }
      ]
    },
    {
      "metadata": {},
      "cell_type": "markdown",
      "source": "### Filter Function\n\nQs: Extract a list of numbers that are multiples of 5 from a list of integers named input_list."
    },
    {
      "metadata": {
        "trusted": true
      },
      "cell_type": "code",
      "source": "input_list=[1, 2, 3, 4, 5, 6, 7, 8, 9, 10, 11, 12, 13, 14, 15, 16, 17, 18, 19, 20, 21, 22, 23, 24, 25, 26, 27, 28, 29, 30, 31, 32, 33, 34, 35, 36, 37, 38, 39, 40, 41, 42, 43, 44, 45, 46, 47, 48, 49, 50]\n\nlist_answer = list(filter(lambda x:x%5==0,input_list))\n\nprint(list_answer)",
      "execution_count": 308,
      "outputs": [
        {
          "output_type": "stream",
          "text": "[5, 10, 15, 20, 25, 30, 35, 40, 45, 50]\n",
          "name": "stdout"
        }
      ]
    },
    {
      "metadata": {},
      "cell_type": "markdown",
      "source": "Qs:You are given a list of strings such as `input_list =['soap','sharp','shy','silent','ship','summer','sheep']`.\n\nExtract a list of names that start with an ‘s’ and end with a ‘p’ (both 's' and 'p' are lowercase) in input_list."
    },
    {
      "metadata": {
        "trusted": true
      },
      "cell_type": "code",
      "source": "input_list =['soap','sharp','shy','silent','ship','summer','sheep']\n\nsp = list(filter(lambda x:x.startswith('s')and x.endswith('p'),input_list))\n\nprint(sp)",
      "execution_count": 309,
      "outputs": [
        {
          "output_type": "stream",
          "text": "['soap', 'sharp', 'ship', 'sheep']\n",
          "name": "stdout"
        }
      ]
    },
    {
      "metadata": {
        "trusted": true
      },
      "cell_type": "code",
      "source": "#Reduce\nfrom functools import reduce\nq  = reduce(lambda x, y: x+y, range(1,4))\nprint(q)\n",
      "execution_count": 310,
      "outputs": [
        {
          "output_type": "stream",
          "text": "6\n",
          "name": "stdout"
        }
      ]
    },
    {
      "metadata": {
        "trusted": true
      },
      "cell_type": "code",
      "source": "list_of_nums = [22,45,32,20,87,94,30]\nprint(reduce(lambda x,y: x if x>y else y,list_of_nums))\n",
      "execution_count": 311,
      "outputs": [
        {
          "output_type": "stream",
          "text": "94\n",
          "name": "stdout"
        }
      ]
    },
    {
      "metadata": {},
      "cell_type": "markdown",
      "source": "### Reduce Function\n\nQs:Using the Reduce function, concatenate a list of words in input_list, and print the output as a string.  \nIf `input_list = ['I','Love','Python']`, the output should be the string 'I Love Python'.\n\n"
    },
    {
      "metadata": {
        "trusted": true
      },
      "cell_type": "code",
      "source": "from functools import reduce\n\ninput_list=['All','you','have','to','fear','is','fear','itself']\n\nconcat=reduce(lambda x, y: x+\" \"+y, input_list)\n\nprint(concat)",
      "execution_count": 312,
      "outputs": [
        {
          "output_type": "stream",
          "text": "All you have to fear is fear itself\n",
          "name": "stdout"
        }
      ]
    },
    {
      "metadata": {
        "trusted": true
      },
      "cell_type": "code",
      "source": "## Qs:You are given a list of numbers such as input_list = [31, 63, 76, 89]. \n#Find and print the largest number in input_list using the reduce() function.\n\ninput_list = [31, 63, 76, 89]\n\nanswer = reduce(lambda x,y: x if x>y else y,input_list)\n\nprint(answer)",
      "execution_count": 313,
      "outputs": [
        {
          "output_type": "stream",
          "text": "89\n",
          "name": "stdout"
        }
      ]
    },
    {
      "metadata": {},
      "cell_type": "markdown",
      "source": "### Additional Reading\n\n- [Lambda, Reduce, Filter, and Map](https://www.python-course.eu/lambda.php)   \n- [Python tips](http://book.pythontips.com/en/latest/map_filter.html)"
    },
    {
      "metadata": {},
      "cell_type": "markdown",
      "source": "## Practice Questions I"
    },
    {
      "metadata": {
        "trusted": true
      },
      "cell_type": "code",
      "source": "## Python Operators\n\n# Qs:What will the output be of ((500//7) % 5) ** 3?\n\n((500//7) % 5) ** 3\n\n# Ans: (500//7) means integer division. Hence, you will get 71.\n#71 % 5 will return the remainder when 71 is divided by 5. Hence, you will get 1.\n#1 ** 3 will return 1 raised to the third power. Hence, you will get 1",
      "execution_count": 314,
      "outputs": [
        {
          "output_type": "execute_result",
          "execution_count": 314,
          "data": {
            "text/plain": "1"
          },
          "metadata": {}
        }
      ]
    },
    {
      "metadata": {
        "trusted": true
      },
      "cell_type": "code",
      "source": "## Indexing\n\n# Qs; How will you extract ‘love’ from the string S = “I love Python”?\n\nS = 'I love Python'\n\nS[2:6]\n# Ans: The substring ‘love’ in S starts from index 2 and goes up to index 5. \n#Hence, you need to write ‘S[2:6]’ to extract it, since the last index mentioned, i.e. 6, will be excluded by default.",
      "execution_count": 315,
      "outputs": [
        {
          "output_type": "execute_result",
          "execution_count": 315,
          "data": {
            "text/plain": "'love'"
          },
          "metadata": {}
        }
      ]
    },
    {
      "metadata": {
        "trusted": true
      },
      "cell_type": "code",
      "source": "S[-11:-7]\n# Ans: Alternatively, you can also use negative indexing in Python, with the last index being ‘-1’. \n#Hence, by using a negative index, you can extract ‘love’ by writing ‘S[-11:-8]’.",
      "execution_count": 316,
      "outputs": [
        {
          "output_type": "execute_result",
          "execution_count": 316,
          "data": {
            "text/plain": "'love'"
          },
          "metadata": {}
        }
      ]
    },
    {
      "metadata": {
        "trusted": true
      },
      "cell_type": "code",
      "source": "## List Multiplication\n\n# Qs:If you have a list L = [1, 2, 3], what will the output of L * 2 be?\n\nL = [1, 2, 3]\nL * 2\n# Ans:L * 2 will replicate all the elements present in the list twice. Hence, you will get [1, 2, 3, 1, 2, 3] as the output.",
      "execution_count": 317,
      "outputs": [
        {
          "output_type": "execute_result",
          "execution_count": 317,
          "data": {
            "text/plain": "[1, 2, 3, 1, 2, 3]"
          },
          "metadata": {}
        }
      ]
    },
    {
      "metadata": {
        "trusted": true
      },
      "cell_type": "code",
      "source": "## List Slicing\n\n# Qs: If you have a list L = [[1, 2, 3], [4, 5, 6], [7, 8, 9, 10]], what will the output of L[2: ] be?\n\nL = [[1, 2, 3], [4, 5, 6], [7, 8, 9, 10]]\nL[2: ]\n\n# Ans:Since this is a nested list, L[2: ] will return all the lists, starting from index 2, and\n#since the list present at index 2 is [7, 8, 9, 10] and there are no lists after it, it will return [[7, 8, 9, 10]].",
      "execution_count": 318,
      "outputs": [
        {
          "output_type": "execute_result",
          "execution_count": 318,
          "data": {
            "text/plain": "[[7, 8, 9, 10]]"
          },
          "metadata": {}
        }
      ]
    },
    {
      "metadata": {
        "trusted": true
      },
      "cell_type": "code",
      "source": "# If you have a tuple T = (3, 5, 7, 11), what will the output of T.append(9) be?\nT = (3, 5, 7, 11)\nT.append(9)\n\n# Ans:Tuples are immutable, i.e. once a tuple is created, you cannot alter it. \n#This is why if you attempt to append a value to the tuple in the question, Python will throw an error.",
      "execution_count": 319,
      "outputs": [
        {
          "output_type": "error",
          "ename": "AttributeError",
          "evalue": "'tuple' object has no attribute 'append'",
          "traceback": [
            "\u001b[0;31m---------------------------------------------------------------------------\u001b[0m",
            "\u001b[0;31mAttributeError\u001b[0m                            Traceback (most recent call last)",
            "\u001b[0;32m<ipython-input-319-9316ad82bac8>\u001b[0m in \u001b[0;36m<module>\u001b[0;34m()\u001b[0m\n\u001b[1;32m      1\u001b[0m \u001b[0;31m# If you have a tuple T = (3, 5, 7, 11), what will the output of T.append(9) be?\u001b[0m\u001b[0;34m\u001b[0m\u001b[0;34m\u001b[0m\u001b[0m\n\u001b[1;32m      2\u001b[0m \u001b[0mT\u001b[0m \u001b[0;34m=\u001b[0m \u001b[0;34m(\u001b[0m\u001b[0;36m3\u001b[0m\u001b[0;34m,\u001b[0m \u001b[0;36m5\u001b[0m\u001b[0;34m,\u001b[0m \u001b[0;36m7\u001b[0m\u001b[0;34m,\u001b[0m \u001b[0;36m11\u001b[0m\u001b[0;34m)\u001b[0m\u001b[0;34m\u001b[0m\u001b[0m\n\u001b[0;32m----> 3\u001b[0;31m \u001b[0mT\u001b[0m\u001b[0;34m.\u001b[0m\u001b[0mappend\u001b[0m\u001b[0;34m(\u001b[0m\u001b[0;36m9\u001b[0m\u001b[0;34m)\u001b[0m\u001b[0;34m\u001b[0m\u001b[0m\n\u001b[0m\u001b[1;32m      4\u001b[0m \u001b[0;34m\u001b[0m\u001b[0m\n\u001b[1;32m      5\u001b[0m \u001b[0;31m# Ans:Tuples are immutable, i.e. once a tuple is created, you cannot alter it.\u001b[0m\u001b[0;34m\u001b[0m\u001b[0;34m\u001b[0m\u001b[0m\n",
            "\u001b[0;31mAttributeError\u001b[0m: 'tuple' object has no attribute 'append'"
          ]
        }
      ]
    },
    {
      "metadata": {
        "trusted": true
      },
      "cell_type": "code",
      "source": "## Dictionary Iteration\n\n# Qs; What will the output be of the following code?\n\nD = {1:['Raj', 22], 2:['Simran', 21], 3:['Rahul', 40]}\nfor val in D:\n     print(val)\n        \n# Ans: By default, iteration in a dictionary is done over the keys of the dictionary. \n#Hence, the code will return ‘1, 2, 3’. The name of the variable used for the iteration (‘val’, in this case) is insignificant.\n",
      "execution_count": 320,
      "outputs": [
        {
          "output_type": "stream",
          "text": "1\n2\n3\n",
          "name": "stdout"
        }
      ]
    },
    {
      "metadata": {},
      "cell_type": "markdown",
      "source": "### Python Comprehensions\n\n#Qs:What will the ‘comprehension equivalent’ be for the following snippet of code?\n\n    `for sentence in paragraph:\n     for word in sentence.split():\n        single_word_list.append(word)`\n"
    },
    {
      "metadata": {
        "trusted": true
      },
      "cell_type": "code",
      "source": "single_word_list=[]\nparagraph=['I love Python language']\n\nfor sentence in paragraph:\n    for word in sentence.split():\n        single_word_list.append(word)\n        \nprint(single_word_list)",
      "execution_count": 321,
      "outputs": [
        {
          "output_type": "stream",
          "text": "['I', 'love', 'Python', 'language']\n",
          "name": "stdout"
        }
      ]
    },
    {
      "metadata": {
        "trusted": true
      },
      "cell_type": "code",
      "source": "# Using list comprehension\n[word for sentence in paragraph for word in sentence.split()]\n\n# Ans:[word for sentence in paragraph for word in sentence.split()] is the right comprehension equivalent of the code \n#provided. You need to put it in square brackets [] since the output will be a list.",
      "execution_count": 322,
      "outputs": [
        {
          "output_type": "execute_result",
          "execution_count": 322,
          "data": {
            "text/plain": "['I', 'love', 'Python', 'language']"
          },
          "metadata": {}
        }
      ]
    },
    {
      "metadata": {
        "trusted": true
      },
      "cell_type": "code",
      "source": "# Function Arguments\n\n# Qs:What will the output of the following code be?\n\ndef my_func(*args):\n    return(sum(args))\n\nprint(my_func(1,2,3,4,5))\nprint(my_func(6,7,8))\n\n# Ans:Using ‘*args’ as an argument for a function in Python enables you to pass as many arguments as you desire. \n#Hence, Python will compute the function, no matter if the argument has five elements or three or any other number of \n#elements.\n",
      "execution_count": 323,
      "outputs": [
        {
          "output_type": "stream",
          "text": "15\n21\n",
          "name": "stdout"
        }
      ]
    },
    {
      "metadata": {
        "trusted": true
      },
      "cell_type": "code",
      "source": "# Operations on a List\n\n# Qs:Which of the following commands will output the squares of all the numbers in a list L = [1, 2, 3, 4]?\n\nL = [1, 2, 3, 4]\nsquared=list(map(lambda x : x ** 2, L))\nprint(squared)\n\n## Ans: list(map(lambda x : x ** 2, L)) will output the squares of all the numbers. However, just map(lambda x : x ** 2, L) \n#will only perform the required task and won’t output the list. It will just return the ID number where the result \n#is stored. Hence, you need to use the ‘list()’ command along with it, to get the required result.",
      "execution_count": 324,
      "outputs": [
        {
          "output_type": "stream",
          "text": "[1, 4, 9, 16]\n",
          "name": "stdout"
        }
      ]
    },
    {
      "metadata": {},
      "cell_type": "markdown",
      "source": "### Practice Questions II"
    },
    {
      "metadata": {},
      "cell_type": "markdown",
      "source": "### Factorial\n\nQs: Given a number ‘n’, output its factorial using reduce().\nNote: Make sure you handle the edge case of zero. As you know, 0! = 1\n"
    },
    {
      "metadata": {
        "trusted": true
      },
      "cell_type": "code",
      "source": "n = int(input())\n\n# Import the reduce() function\nfrom functools import reduce\n\nf=lambda x,y:x*y\n\ndef factorial(number):\n    if(number==0): \n        return 1 \n    else: \n        return reduce(f,range(1,number+1))\n\nprint(factorial(n))\n",
      "execution_count": 326,
      "outputs": [
        {
          "output_type": "stream",
          "name": "stdout",
          "text": "5\n120\n"
        }
      ]
    },
    {
      "metadata": {},
      "cell_type": "markdown",
      "source": "### Set Operations\n\nQs: In a school, there are total 20 students numbered from 1 to 20. You’re given three lists named ‘C’, ‘F’, and ‘H’, representing students who play cricket, football, and hockey, respectively. Based on this information, find out and print the following:   \n\n    `Students who play all the three sports  \n    Students who play both cricket and football but don’t play hockey  \n    Students who play exactly two of the sports  \n    Students who don’t play any of the three sports  `\n\nFormat:  \nInput:  \nLine 1 : The number of students 'n'.  \nRemaining Lines: 3 lists containing numbers (ranging from 1 to n) representing students who play cricket, football and hockey respectively.  \nOutput:   \n4 different lists containing the students according to the constraints provided in the questions.  \n\nNote: Make sure you sort the final lists (in an ascending order) that you get before printing them; otherwise your answer might not match the test-cases.\n\nExamples:\nInput 1:\n`[2, 5, 9, 12, 13, 15, 16, 17, 18, 19]  \n[2, 4, 5, 6, 7, 9, 13, 16]  \n[1, 2, 5, 9, 10, 11, 12, 13, 15]   \nOutput 1:  \n[2, 5, 9, 13]  \n[16]    \n[12, 15, 16]   \n[3, 8, 14, 20]`  \n\nExplanation:  \n\n1.Given the three sets, you can see that the students numbered '2', '5', '9', and '13' play all the three sports.   \n2. The student numbered '16' plays cricket and football but doesn't play hockey.   \n3. The student numbered '12' and '15' plays cricket and hockey and the student numbered '16' plays cricket and football.   There are no students who play only football and hockey. Hence, the students who play exactly two sports are 12, 15, and 16.  \n4. As you can see, the students who play none of the sports are 3, 8, 14, and 20.  "
    },
    {
      "metadata": {
        "trusted": true
      },
      "cell_type": "code",
      "source": "input_list=[[2, 5, 9, 12, 13, 15, 16, 17, 18, 19], [2, 4, 5, 6, 7, 9, 13, 16], [1, 2, 5, 9, 10, 11, 12, 13, 15]]\n\nC = set(input_list[0])\nF = set(input_list[1])\nH = set(input_list[2])\nA= set(range(1, 21))\n\nprint(sorted(list(C & F & H)))\nprint(sorted(list((C & F) - H)))\nprint(sorted(list((C|F|H) - (C^F^H))))\nprint(sorted(list(A-(C|F|H))))",
      "execution_count": 327,
      "outputs": [
        {
          "output_type": "stream",
          "text": "[2, 5, 9, 13]\n[16]\n[12, 15, 16]\n[3, 8, 14, 20]\n",
          "name": "stdout"
        }
      ]
    },
    {
      "metadata": {
        "trusted": true
      },
      "cell_type": "code",
      "source": "# Aliter\ninput_list=[[2, 5, 9, 12, 13, 15, 16, 17, 18, 19], [2, 4, 5, 6, 7, 9, 13, 16], [1, 2, 5, 9, 10, 11, 12, 13, 15]]\n\nC = set(input_list[0])\nF = set(input_list[1])\nH = set(input_list[2])\nA= set(range(1, 21))\n\nprint(sorted(list((C.intersection(F)).intersection(H))))\nprint(sorted(list((C.intersection(F)).difference(H))))\nprint(sorted(list((C.union(F).union(H)).difference(C.symmetric_difference(F).symmetric_difference(H)))))\nprint(sorted(list(A.difference(C.union(F).union(H)))))\n",
      "execution_count": 328,
      "outputs": [
        {
          "output_type": "stream",
          "text": "[2, 5, 9, 13]\n[16]\n[12, 15, 16]\n[3, 8, 14, 20]\n",
          "name": "stdout"
        }
      ]
    },
    {
      "metadata": {
        "trusted": true
      },
      "cell_type": "markdown",
      "source": "#### The part 2 of the Artificial Intelligence series will cover  python data analysis packages such as `numpy`, `pandas` etc."
    }
  ],
  "metadata": {
    "kernelspec": {
      "name": "python36",
      "display_name": "Python 3.6",
      "language": "python"
    },
    "language_info": {
      "mimetype": "text/x-python",
      "nbconvert_exporter": "python",
      "name": "python",
      "pygments_lexer": "ipython3",
      "version": "3.6.6",
      "file_extension": ".py",
      "codemirror_mode": {
        "version": 3,
        "name": "ipython"
      }
    }
  },
  "nbformat": 4,
  "nbformat_minor": 2
}